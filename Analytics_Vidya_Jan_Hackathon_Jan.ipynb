{
 "cells": [
  {
   "cell_type": "markdown",
   "id": "190d4887",
   "metadata": {},
   "source": [
    "### Import Libraries"
   ]
  },
  {
   "cell_type": "code",
   "execution_count": null,
   "id": "39e6af2d",
   "metadata": {},
   "outputs": [],
   "source": [
    "import pandas as pd\n",
    "import numpy as np\n",
    "import matplotlib.pyplot as plt\n",
    "import seaborn as sns\n",
    "import os\n",
    "os.chdir(r'C:\\Users\\varun.raste\\Downloads\\Analytics Vidya Jan Jobathon')\n",
    "import warnings\n",
    "warnings.filterwarnings('ignore')"
   ]
  },
  {
   "cell_type": "code",
   "execution_count": 2,
   "id": "38756cd6",
   "metadata": {},
   "outputs": [
    {
     "data": {
      "text/html": [
       "<div>\n",
       "<style scoped>\n",
       "    .dataframe tbody tr th:only-of-type {\n",
       "        vertical-align: middle;\n",
       "    }\n",
       "\n",
       "    .dataframe tbody tr th {\n",
       "        vertical-align: top;\n",
       "    }\n",
       "\n",
       "    .dataframe thead th {\n",
       "        text-align: right;\n",
       "    }\n",
       "</style>\n",
       "<table border=\"1\" class=\"dataframe\">\n",
       "  <thead>\n",
       "    <tr style=\"text-align: right;\">\n",
       "      <th></th>\n",
       "      <th>id</th>\n",
       "      <th>gender</th>\n",
       "      <th>area</th>\n",
       "      <th>qualification</th>\n",
       "      <th>income</th>\n",
       "      <th>marital_status</th>\n",
       "      <th>vintage</th>\n",
       "      <th>claim_amount</th>\n",
       "      <th>num_policies</th>\n",
       "      <th>policy</th>\n",
       "      <th>type_of_policy</th>\n",
       "      <th>cltv</th>\n",
       "    </tr>\n",
       "  </thead>\n",
       "  <tbody>\n",
       "    <tr>\n",
       "      <th>0</th>\n",
       "      <td>1</td>\n",
       "      <td>Male</td>\n",
       "      <td>Urban</td>\n",
       "      <td>Bachelor</td>\n",
       "      <td>5L-10L</td>\n",
       "      <td>1</td>\n",
       "      <td>5</td>\n",
       "      <td>5790</td>\n",
       "      <td>More than 1</td>\n",
       "      <td>A</td>\n",
       "      <td>Platinum</td>\n",
       "      <td>64308</td>\n",
       "    </tr>\n",
       "    <tr>\n",
       "      <th>1</th>\n",
       "      <td>2</td>\n",
       "      <td>Male</td>\n",
       "      <td>Rural</td>\n",
       "      <td>High School</td>\n",
       "      <td>5L-10L</td>\n",
       "      <td>0</td>\n",
       "      <td>8</td>\n",
       "      <td>5080</td>\n",
       "      <td>More than 1</td>\n",
       "      <td>A</td>\n",
       "      <td>Platinum</td>\n",
       "      <td>515400</td>\n",
       "    </tr>\n",
       "    <tr>\n",
       "      <th>2</th>\n",
       "      <td>3</td>\n",
       "      <td>Male</td>\n",
       "      <td>Urban</td>\n",
       "      <td>Bachelor</td>\n",
       "      <td>5L-10L</td>\n",
       "      <td>1</td>\n",
       "      <td>8</td>\n",
       "      <td>2599</td>\n",
       "      <td>More than 1</td>\n",
       "      <td>A</td>\n",
       "      <td>Platinum</td>\n",
       "      <td>64212</td>\n",
       "    </tr>\n",
       "    <tr>\n",
       "      <th>3</th>\n",
       "      <td>4</td>\n",
       "      <td>Female</td>\n",
       "      <td>Rural</td>\n",
       "      <td>High School</td>\n",
       "      <td>5L-10L</td>\n",
       "      <td>0</td>\n",
       "      <td>7</td>\n",
       "      <td>0</td>\n",
       "      <td>More than 1</td>\n",
       "      <td>A</td>\n",
       "      <td>Platinum</td>\n",
       "      <td>97920</td>\n",
       "    </tr>\n",
       "    <tr>\n",
       "      <th>4</th>\n",
       "      <td>5</td>\n",
       "      <td>Male</td>\n",
       "      <td>Urban</td>\n",
       "      <td>High School</td>\n",
       "      <td>More than 10L</td>\n",
       "      <td>1</td>\n",
       "      <td>6</td>\n",
       "      <td>3508</td>\n",
       "      <td>More than 1</td>\n",
       "      <td>A</td>\n",
       "      <td>Gold</td>\n",
       "      <td>59736</td>\n",
       "    </tr>\n",
       "  </tbody>\n",
       "</table>\n",
       "</div>"
      ],
      "text/plain": [
       "   id  gender   area qualification         income  marital_status  vintage  \\\n",
       "0   1    Male  Urban      Bachelor         5L-10L               1        5   \n",
       "1   2    Male  Rural   High School         5L-10L               0        8   \n",
       "2   3    Male  Urban      Bachelor         5L-10L               1        8   \n",
       "3   4  Female  Rural   High School         5L-10L               0        7   \n",
       "4   5    Male  Urban   High School  More than 10L               1        6   \n",
       "\n",
       "   claim_amount num_policies policy type_of_policy    cltv  \n",
       "0          5790  More than 1      A       Platinum   64308  \n",
       "1          5080  More than 1      A       Platinum  515400  \n",
       "2          2599  More than 1      A       Platinum   64212  \n",
       "3             0  More than 1      A       Platinum   97920  \n",
       "4          3508  More than 1      A           Gold   59736  "
      ]
     },
     "execution_count": 2,
     "metadata": {},
     "output_type": "execute_result"
    }
   ],
   "source": [
    "train=pd.read_csv('train.csv')\n",
    "train.head()"
   ]
  },
  {
   "cell_type": "markdown",
   "id": "d15e00d8",
   "metadata": {},
   "source": [
    "#### For detailed EDA ,we have used the pandas_profiling library"
   ]
  },
  {
   "cell_type": "code",
   "execution_count": 3,
   "id": "ee1cb373",
   "metadata": {},
   "outputs": [
    {
     "data": {
      "application/vnd.jupyter.widget-view+json": {
       "model_id": "740932f774254bf398cfb11dff9c08d1",
       "version_major": 2,
       "version_minor": 0
      },
      "text/plain": [
       "Summarize dataset:   0%|          | 0/5 [00:00<?, ?it/s]"
      ]
     },
     "metadata": {},
     "output_type": "display_data"
    },
    {
     "data": {
      "application/vnd.jupyter.widget-view+json": {
       "model_id": "20ace19348064798a9ccbc2a072b7e6d",
       "version_major": 2,
       "version_minor": 0
      },
      "text/plain": [
       "Generate report structure:   0%|          | 0/1 [00:00<?, ?it/s]"
      ]
     },
     "metadata": {},
     "output_type": "display_data"
    },
    {
     "data": {
      "application/vnd.jupyter.widget-view+json": {
       "model_id": "fad5f94bce0c42f9946aa3d4491b492f",
       "version_major": 2,
       "version_minor": 0
      },
      "text/plain": [
       "Render HTML:   0%|          | 0/1 [00:00<?, ?it/s]"
      ]
     },
     "metadata": {},
     "output_type": "display_data"
    },
    {
     "data": {
      "application/vnd.jupyter.widget-view+json": {
       "model_id": "9d5e3be0fd824a6abff728715adeb03d",
       "version_major": 2,
       "version_minor": 0
      },
      "text/plain": [
       "Export report to file:   0%|          | 0/1 [00:00<?, ?it/s]"
      ]
     },
     "metadata": {},
     "output_type": "display_data"
    }
   ],
   "source": [
    "from pandas_profiling import ProfileReport\n",
    "profile=ProfileReport(train, title='Pandas Profiling Report', explorative=True,\\\n",
    "                        correlations={\"cramers\": {\"calculate\": True},\n",
    "                                     \"phi_k\": {\"calculate\": True},\n",
    "                                     \"kendall\": {\"calculate\": True},\n",
    "                                     \"spearman\": {\"calculate\": True}},\\\n",
    "                        missing_diagrams={\"Count\": True})\n",
    "#profile.to_widgets()\n",
    "profile.to_file(f\"EDA.html\")"
   ]
  },
  {
   "cell_type": "markdown",
   "id": "bb246f17",
   "metadata": {},
   "source": [
    "### \"Understanding Resposne CLTV\""
   ]
  },
  {
   "cell_type": "markdown",
   "id": "d82b79f1",
   "metadata": {},
   "source": [
    "cltv is nothing but customer lifeitme value , better the value better is the customer. "
   ]
  },
  {
   "cell_type": "code",
   "execution_count": 3,
   "id": "d26ff5d3",
   "metadata": {},
   "outputs": [
    {
     "name": "stdout",
     "output_type": "stream",
     "text": [
      "count     89392.000000\n",
      "mean      97952.828978\n",
      "std       90613.814793\n",
      "min       24828.000000\n",
      "25%       52836.000000\n",
      "50%       66396.000000\n",
      "75%      103440.000000\n",
      "max      724068.000000\n",
      "Name: cltv, dtype: float64\n"
     ]
    },
    {
     "data": {
      "image/png": "[encoded data removed]",
      "text/plain": [
       "<Figure size 432x288 with 1 Axes>"
      ]
     },
     "metadata": {
      "needs_background": "light"
     },
     "output_type": "display_data"
    }
   ],
   "source": [
    "print(train['cltv'].describe())\n",
    "sns.distplot(train['cltv'])\n",
    "plt.title(\"Density plot for CLTV\")\n",
    "plt.tight_layout()\n",
    "plt.show()"
   ]
  },
  {
   "cell_type": "markdown",
   "id": "3182a128",
   "metadata": {},
   "source": [
    "##### We see data is right skewed (positively skewed) with most density concentrated between [24828,103440]"
   ]
  },
  {
   "cell_type": "code",
   "execution_count": 4,
   "id": "29b2cb8e",
   "metadata": {},
   "outputs": [
    {
     "data": {
      "image/png": "[encoded data removed]",
      "text/plain": [
       "<Figure size 432x288 with 1 Axes>"
      ]
     },
     "metadata": {
      "needs_background": "light"
     },
     "output_type": "display_data"
    }
   ],
   "source": [
    "sns.boxplot(train['cltv'])\n",
    "plt.title('Box plot for CLTV')\n",
    "plt.tight_layout()"
   ]
  },
  {
   "cell_type": "markdown",
   "id": "d9078e65",
   "metadata": {},
   "source": [
    "###### Box plot clearly detects presence of outliers"
   ]
  },
  {
   "cell_type": "markdown",
   "id": "113d5ca5",
   "metadata": {},
   "source": [
    "### Analysis of Continuous Independent variables"
   ]
  },
  {
   "cell_type": "code",
   "execution_count": 5,
   "id": "3cbebd9d",
   "metadata": {},
   "outputs": [
    {
     "name": "stdout",
     "output_type": "stream",
     "text": [
      "Correlation between claim amount & cltv is :- 0.18\n"
     ]
    },
    {
     "data": {
      "image/png": "[encoded data removed]",
      "text/plain": [
       "<Figure size 432x288 with 1 Axes>"
      ]
     },
     "metadata": {
      "needs_background": "light"
     },
     "output_type": "display_data"
    }
   ],
   "source": [
    "sns.scatterplot(x='claim_amount',y='cltv',data=train)\n",
    "plt.title(\"Scatter plot between Claim Amount & cltv\")\n",
    "print(f\"Correlation between claim amount & cltv is :- {round(train[['claim_amount','cltv']].corr().iloc[0,1],2)}\")"
   ]
  },
  {
   "cell_type": "markdown",
   "id": "a37e462b",
   "metadata": {},
   "source": [
    "Weaker correlation between claim_amount & cltv."
   ]
  },
  {
   "cell_type": "code",
   "execution_count": 6,
   "id": "fa816788",
   "metadata": {},
   "outputs": [],
   "source": [
    "percentiles = train['claim_amount'].quantile([0.01, 0.99]).values\n",
    "train['claim_amount']= np.clip(train['claim_amount'], percentiles[0], percentiles[1])"
   ]
  },
  {
   "cell_type": "code",
   "execution_count": 7,
   "id": "f4e3a6f7",
   "metadata": {},
   "outputs": [
    {
     "data": {
      "text/plain": [
       "count    89392.000000\n",
       "mean      4322.399079\n",
       "std       3137.854067\n",
       "min          0.000000\n",
       "25%       2406.000000\n",
       "50%       4089.000000\n",
       "75%       6094.000000\n",
       "max      14868.090000\n",
       "Name: claim_amount, dtype: float64"
      ]
     },
     "execution_count": 7,
     "metadata": {},
     "output_type": "execute_result"
    }
   ],
   "source": [
    "train['claim_amount'].describe()"
   ]
  },
  {
   "cell_type": "code",
   "execution_count": 8,
   "id": "3811820c",
   "metadata": {},
   "outputs": [
    {
     "name": "stdout",
     "output_type": "stream",
     "text": [
      "Proportion of users who have claimed insurance vs users who havent claimed it so far:- \n",
      "1    80.23\n",
      "0    19.77\n",
      "Name: claim, dtype: float64\n"
     ]
    }
   ],
   "source": [
    "### creating new feature of people who havent claimd insurance\n",
    "train['claim']=np.where(train['claim_amount']==0,0,1)\n",
    "print(\"Proportion of users who have claimed insurance vs users who havent claimed it so far:- \")\n",
    "print(f\"{round(100*train['claim'].value_counts(normalize=True),2)}\")"
   ]
  },
  {
   "cell_type": "markdown",
   "id": "f76704f3",
   "metadata": {},
   "source": [
    "### Analysis of Categorical Independent variables"
   ]
  },
  {
   "cell_type": "code",
   "execution_count": 9,
   "id": "50cd7a3e",
   "metadata": {},
   "outputs": [
    {
     "name": "stdout",
     "output_type": "stream",
     "text": [
      "gender\n",
      "Male      97848.038022\n",
      "Female    98088.878056\n",
      "Name: cltv, dtype: float64\n"
     ]
    },
    {
     "data": {
      "image/png": "[encoded data removed]",
      "text/plain": [
       "<Figure size 432x288 with 1 Axes>"
      ]
     },
     "metadata": {
      "needs_background": "light"
     },
     "output_type": "display_data"
    },
    {
     "name": "stdout",
     "output_type": "stream",
     "text": [
      "area\n",
      "Rural     79587.316182\n",
      "Urban    105873.921255\n",
      "Name: cltv, dtype: float64\n"
     ]
    },
    {
     "data": {
      "image/png": "[encoded data removed]",
      "text/plain": [
       "<Figure size 432x288 with 1 Axes>"
      ]
     },
     "metadata": {
      "needs_background": "light"
     },
     "output_type": "display_data"
    },
    {
     "name": "stdout",
     "output_type": "stream",
     "text": [
      "qualification\n",
      "Others         77633.272824\n",
      "Bachelor       98515.392675\n",
      "High School    99119.447575\n",
      "Name: cltv, dtype: float64\n"
     ]
    },
    {
     "data": {
      "image/png": "[encoded data removed]",
      "text/plain": [
       "<Figure size 432x288 with 1 Axes>"
      ]
     },
     "metadata": {
      "needs_background": "light"
     },
     "output_type": "display_data"
    },
    {
     "name": "stdout",
     "output_type": "stream",
     "text": [
      "income\n",
      "More than 10L     89445.767564\n",
      "5L-10L            95061.906670\n",
      "2L-5L            109467.408073\n",
      "<=2L             111444.135922\n",
      "Name: cltv, dtype: float64\n"
     ]
    },
    {
     "data": {
      "image/png": "[encoded data removed]",
      "text/plain": [
       "<Figure size 432x288 with 1 Axes>"
      ]
     },
     "metadata": {
      "needs_background": "light"
     },
     "output_type": "display_data"
    },
    {
     "name": "stdout",
     "output_type": "stream",
     "text": [
      "num_policies\n",
      "1               50979.031618\n",
      "More than 1    120658.299056\n",
      "Name: cltv, dtype: float64\n"
     ]
    },
    {
     "data": {
      "image/png": "[encoded data removed]",
      "text/plain": [
       "<Figure size 432x288 with 1 Axes>"
      ]
     },
     "metadata": {
      "needs_background": "light"
     },
     "output_type": "display_data"
    },
    {
     "name": "stdout",
     "output_type": "stream",
     "text": [
      "policy\n",
      "B     89393.529694\n",
      "A    100376.725443\n",
      "C    107019.653396\n",
      "Name: cltv, dtype: float64\n"
     ]
    },
    {
     "data": {
      "image/png": "[encoded data removed]",
      "text/plain": [
       "<Figure size 432x288 with 1 Axes>"
      ]
     },
     "metadata": {
      "needs_background": "light"
     },
     "output_type": "display_data"
    },
    {
     "name": "stdout",
     "output_type": "stream",
     "text": [
      "type_of_policy\n",
      "Silver      92457.367539\n",
      "Gold        99381.983095\n",
      "Platinum    99752.960331\n",
      "Name: cltv, dtype: float64\n"
     ]
    },
    {
     "data": {
      "image/png": "[encoded data removed]",
      "text/plain": [
       "<Figure size 432x288 with 1 Axes>"
      ]
     },
     "metadata": {
      "needs_background": "light"
     },
     "output_type": "display_data"
    },
    {
     "name": "stdout",
     "output_type": "stream",
     "text": [
      "vintage\n",
      "0     86972.701563\n",
      "1     92467.931169\n",
      "5     96148.577518\n",
      "6     97614.337329\n",
      "4     98144.888549\n",
      "7     98412.723940\n",
      "2     99822.983961\n",
      "8    103711.822665\n",
      "3    104415.658433\n",
      "Name: cltv, dtype: float64\n"
     ]
    },
    {
     "data": {
      "image/png": "[encoded data removed]",
      "text/plain": [
       "<Figure size 432x288 with 1 Axes>"
      ]
     },
     "metadata": {
      "needs_background": "light"
     },
     "output_type": "display_data"
    },
    {
     "name": "stdout",
     "output_type": "stream",
     "text": [
      "marital_status\n",
      "1     91902.410777\n",
      "0    106155.045536\n",
      "Name: cltv, dtype: float64\n"
     ]
    },
    {
     "data": {
      "image/png": "[encoded data removed]",
      "text/plain": [
       "<Figure size 432x288 with 1 Axes>"
      ]
     },
     "metadata": {
      "needs_background": "light"
     },
     "output_type": "display_data"
    },
    {
     "name": "stdout",
     "output_type": "stream",
     "text": [
      "claim\n",
      "0     75791.432969\n",
      "1    103413.071151\n",
      "Name: cltv, dtype: float64\n"
     ]
    },
    {
     "data": {
      "image/png": "[encoded data removed]",
      "text/plain": [
       "<Figure size 432x288 with 1 Axes>"
      ]
     },
     "metadata": {
      "needs_background": "light"
     },
     "output_type": "display_data"
    }
   ],
   "source": [
    "response='cltv'\n",
    "for col in train.select_dtypes('O').columns.tolist()+['vintage','marital_status','claim']:\n",
    "    print(train.groupby(col)[response].mean().sort_values())\n",
    "    plt.title(f\"Distribution for categorical column:-{col} & {response}\")\n",
    "    train.groupby(col)[response].mean().sort_values().plot(kind='barh')\n",
    "    #plt.pie(train.groupby(col)[response].mean().values,labels=train.groupby(col)[response].mean().index)\n",
    "    plt.show()\n",
    "###"
   ]
  },
  {
   "cell_type": "markdown",
   "id": "5e79a782",
   "metadata": {},
   "source": [
    "#### If we compare the means for different categories then we can see that for variables :-\n",
    "1. Gender wise avg cltv doesnt changes much.\n",
    "2. Area wise cltv is changing , in Urban area avg cltv is higher than rural area i.e company is rating urban area insured more than rural.\n",
    "3. Qualification wise avg cltv is same across high school & Bachelor but lower avg cltv is observed if you have any other qualification.\n",
    "4. For income story is interesting , i.e we are able to see a monotonic increase in avg cltv as income range decreases i.e higher income >10L have least avg CLTV & it increases and maximum if your income is less than <2L\n",
    "5. Number of Policies :- Avg CLTV is much higher for users with more than 1 policies\n",
    "6. Avg CLTV is same for policy name A & C but significant lower in case of policy B\n",
    "7. For type of policy Silver , avg cltv is observed to be lower than Gold & Platinum policy.\n",
    "8. Avg CLTV is lesser for unmarried users than married users.\n",
    "9. For users who havent claimed the insurance have less avg cltv than that of those who havent claimed."
   ]
  },
  {
   "cell_type": "markdown",
   "id": "a0f6fd6e",
   "metadata": {},
   "source": [
    "### Missingness \n"
   ]
  },
  {
   "cell_type": "code",
   "execution_count": 10,
   "id": "2da59910",
   "metadata": {},
   "outputs": [
    {
     "data": {
      "text/plain": [
       "id                0.0\n",
       "gender            0.0\n",
       "area              0.0\n",
       "qualification     0.0\n",
       "income            0.0\n",
       "marital_status    0.0\n",
       "vintage           0.0\n",
       "claim_amount      0.0\n",
       "num_policies      0.0\n",
       "policy            0.0\n",
       "type_of_policy    0.0\n",
       "cltv              0.0\n",
       "claim             0.0\n",
       "dtype: float64"
      ]
     },
     "execution_count": 10,
     "metadata": {},
     "output_type": "execute_result"
    }
   ],
   "source": [
    "# Please refer pandas profiling report for more details\n",
    "round(train.isna().sum()/train.shape[0],2)"
   ]
  },
  {
   "cell_type": "markdown",
   "id": "432cefc4",
   "metadata": {},
   "source": [
    "No missing values in data so far"
   ]
  },
  {
   "cell_type": "code",
   "execution_count": 11,
   "id": "ea320d47",
   "metadata": {},
   "outputs": [
    {
     "data": {
      "text/html": [
       "<div>\n",
       "<style scoped>\n",
       "    .dataframe tbody tr th:only-of-type {\n",
       "        vertical-align: middle;\n",
       "    }\n",
       "\n",
       "    .dataframe tbody tr th {\n",
       "        vertical-align: top;\n",
       "    }\n",
       "\n",
       "    .dataframe thead th {\n",
       "        text-align: right;\n",
       "    }\n",
       "</style>\n",
       "<table border=\"1\" class=\"dataframe\">\n",
       "  <thead>\n",
       "    <tr style=\"text-align: right;\">\n",
       "      <th></th>\n",
       "      <th>id</th>\n",
       "      <th>area</th>\n",
       "      <th>income</th>\n",
       "      <th>marital_status</th>\n",
       "      <th>vintage</th>\n",
       "      <th>claim_amount</th>\n",
       "      <th>num_policies</th>\n",
       "      <th>cltv</th>\n",
       "      <th>claim</th>\n",
       "      <th>type_of_policy_Platinum</th>\n",
       "      <th>type_of_policy_Silver</th>\n",
       "      <th>qualification_High School</th>\n",
       "      <th>qualification_Others</th>\n",
       "      <th>policy_B</th>\n",
       "      <th>policy_C</th>\n",
       "      <th>gender_Male</th>\n",
       "    </tr>\n",
       "  </thead>\n",
       "  <tbody>\n",
       "    <tr>\n",
       "      <th>0</th>\n",
       "      <td>1</td>\n",
       "      <td>2</td>\n",
       "      <td>2</td>\n",
       "      <td>1</td>\n",
       "      <td>5</td>\n",
       "      <td>5790.0</td>\n",
       "      <td>2</td>\n",
       "      <td>64308</td>\n",
       "      <td>1</td>\n",
       "      <td>1</td>\n",
       "      <td>0</td>\n",
       "      <td>0</td>\n",
       "      <td>0</td>\n",
       "      <td>0</td>\n",
       "      <td>0</td>\n",
       "      <td>1</td>\n",
       "    </tr>\n",
       "    <tr>\n",
       "      <th>1</th>\n",
       "      <td>2</td>\n",
       "      <td>1</td>\n",
       "      <td>2</td>\n",
       "      <td>0</td>\n",
       "      <td>8</td>\n",
       "      <td>5080.0</td>\n",
       "      <td>2</td>\n",
       "      <td>515400</td>\n",
       "      <td>1</td>\n",
       "      <td>1</td>\n",
       "      <td>0</td>\n",
       "      <td>1</td>\n",
       "      <td>0</td>\n",
       "      <td>0</td>\n",
       "      <td>0</td>\n",
       "      <td>1</td>\n",
       "    </tr>\n",
       "    <tr>\n",
       "      <th>2</th>\n",
       "      <td>3</td>\n",
       "      <td>2</td>\n",
       "      <td>2</td>\n",
       "      <td>1</td>\n",
       "      <td>8</td>\n",
       "      <td>2599.0</td>\n",
       "      <td>2</td>\n",
       "      <td>64212</td>\n",
       "      <td>1</td>\n",
       "      <td>1</td>\n",
       "      <td>0</td>\n",
       "      <td>0</td>\n",
       "      <td>0</td>\n",
       "      <td>0</td>\n",
       "      <td>0</td>\n",
       "      <td>1</td>\n",
       "    </tr>\n",
       "    <tr>\n",
       "      <th>3</th>\n",
       "      <td>4</td>\n",
       "      <td>1</td>\n",
       "      <td>2</td>\n",
       "      <td>0</td>\n",
       "      <td>7</td>\n",
       "      <td>0.0</td>\n",
       "      <td>2</td>\n",
       "      <td>97920</td>\n",
       "      <td>0</td>\n",
       "      <td>1</td>\n",
       "      <td>0</td>\n",
       "      <td>1</td>\n",
       "      <td>0</td>\n",
       "      <td>0</td>\n",
       "      <td>0</td>\n",
       "      <td>0</td>\n",
       "    </tr>\n",
       "    <tr>\n",
       "      <th>4</th>\n",
       "      <td>5</td>\n",
       "      <td>2</td>\n",
       "      <td>1</td>\n",
       "      <td>1</td>\n",
       "      <td>6</td>\n",
       "      <td>3508.0</td>\n",
       "      <td>2</td>\n",
       "      <td>59736</td>\n",
       "      <td>1</td>\n",
       "      <td>0</td>\n",
       "      <td>0</td>\n",
       "      <td>1</td>\n",
       "      <td>0</td>\n",
       "      <td>0</td>\n",
       "      <td>0</td>\n",
       "      <td>1</td>\n",
       "    </tr>\n",
       "  </tbody>\n",
       "</table>\n",
       "</div>"
      ],
      "text/plain": [
       "   id  area  income  marital_status  vintage  claim_amount  num_policies  \\\n",
       "0   1     2       2               1        5        5790.0             2   \n",
       "1   2     1       2               0        8        5080.0             2   \n",
       "2   3     2       2               1        8        2599.0             2   \n",
       "3   4     1       2               0        7           0.0             2   \n",
       "4   5     2       1               1        6        3508.0             2   \n",
       "\n",
       "     cltv  claim  type_of_policy_Platinum  type_of_policy_Silver  \\\n",
       "0   64308      1                        1                      0   \n",
       "1  515400      1                        1                      0   \n",
       "2   64212      1                        1                      0   \n",
       "3   97920      0                        1                      0   \n",
       "4   59736      1                        0                      0   \n",
       "\n",
       "   qualification_High School  qualification_Others  policy_B  policy_C  \\\n",
       "0                          0                     0         0         0   \n",
       "1                          1                     0         0         0   \n",
       "2                          0                     0         0         0   \n",
       "3                          1                     0         0         0   \n",
       "4                          1                     0         0         0   \n",
       "\n",
       "   gender_Male  \n",
       "0            1  \n",
       "1            1  \n",
       "2            1  \n",
       "3            0  \n",
       "4            1  "
      ]
     },
     "execution_count": 11,
     "metadata": {},
     "output_type": "execute_result"
    }
   ],
   "source": [
    "### Ordinal Coding\n",
    "\n",
    "def data_transform(data):\n",
    "    ### Ordinal Encoding\n",
    "    data['area']=data['area'].map({'Urban':2, 'Rural':1})\n",
    "    data['income']=data['income'].map({'5L-10L':2, 'More than 10L':1, '2L-5L':3, '<=2L':4})\n",
    "    data['num_policies']=data['num_policies'].map({'More than 1':2, '1':1})\n",
    "    data['claim']=np.where(data['claim_amount']==0,0,1)\n",
    "    ### One Hot Encoding\n",
    "    data=pd.get_dummies(data,columns=['type_of_policy','qualification','policy','gender'],drop_first=True)\n",
    "    return data\n",
    "\n",
    "data=data_transform(data=train)\n",
    "data.head()"
   ]
  },
  {
   "cell_type": "markdown",
   "id": "b8bf6958",
   "metadata": {},
   "source": [
    "### Model Building"
   ]
  },
  {
   "cell_type": "code",
   "execution_count": null,
   "id": "ce40b27a",
   "metadata": {},
   "outputs": [
    {
     "name": "stdout",
     "output_type": "stream",
     "text": [
      "[flaml.automl.automl: 01-22 16:27:34] {2715} INFO - task = regression\n",
      "[flaml.automl.automl: 01-22 16:27:34] {2717} INFO - Data split method: uniform\n",
      "[flaml.automl.automl: 01-22 16:27:34] {2720} INFO - Evaluation method: holdout\n",
      "[flaml.automl.automl: 01-22 16:27:34] {2847} INFO - Minimizing error metric: 1-r2\n",
      "[flaml.automl.automl: 01-22 16:27:34] {2993} INFO - List of ML learners in AutoML Run: ['lgbm']\n",
      "[flaml.automl.automl: 01-22 16:27:34] {3322} INFO - iteration 0, current learner lgbm\n",
      "[flaml.automl.automl: 01-22 16:27:34] {3460} INFO - Estimated sufficient time budget=3380s. Estimated necessary time budget=3s.\n",
      "[flaml.automl.automl: 01-22 16:27:34] {3507} INFO -  at 0.5s,\testimator lgbm's best error=0.9210,\tbest estimator lgbm's best error=0.9210\n",
      "[flaml.automl.automl: 01-22 16:27:34] {3322} INFO - iteration 1, current learner lgbm\n",
      "[flaml.automl.automl: 01-22 16:27:34] {3507} INFO -  at 0.5s,\testimator lgbm's best error=0.9210,\tbest estimator lgbm's best error=0.9210\n",
      "[flaml.automl.automl: 01-22 16:27:34] {3322} INFO - iteration 2, current learner lgbm\n",
      "[flaml.automl.automl: 01-22 16:27:34] {3507} INFO -  at 0.6s,\testimator lgbm's best error=0.8695,\tbest estimator lgbm's best error=0.8695\n",
      "[flaml.automl.automl: 01-22 16:27:34] {3322} INFO - iteration 3, current learner lgbm\n",
      "[flaml.automl.automl: 01-22 16:27:34] {3507} INFO -  at 0.6s,\testimator lgbm's best error=0.8574,\tbest estimator lgbm's best error=0.8574\n",
      "[flaml.automl.automl: 01-22 16:27:34] {3322} INFO - iteration 4, current learner lgbm\n",
      "[flaml.automl.automl: 01-22 16:27:34] {3507} INFO -  at 0.6s,\testimator lgbm's best error=0.8574,\tbest estimator lgbm's best error=0.8574\n",
      "[flaml.automl.automl: 01-22 16:27:34] {3322} INFO - iteration 5, current learner lgbm\n",
      "[flaml.automl.automl: 01-22 16:27:34] {3507} INFO -  at 0.7s,\testimator lgbm's best error=0.8574,\tbest estimator lgbm's best error=0.8574\n",
      "[flaml.automl.automl: 01-22 16:27:34] {3322} INFO - iteration 6, current learner lgbm\n",
      "[flaml.automl.automl: 01-22 16:27:34] {3507} INFO -  at 0.8s,\testimator lgbm's best error=0.8539,\tbest estimator lgbm's best error=0.8539\n",
      "[flaml.automl.automl: 01-22 16:27:34] {3322} INFO - iteration 7, current learner lgbm\n",
      "[flaml.automl.automl: 01-22 16:27:35] {3507} INFO -  at 0.8s,\testimator lgbm's best error=0.8539,\tbest estimator lgbm's best error=0.8539\n",
      "[flaml.automl.automl: 01-22 16:27:35] {3322} INFO - iteration 8, current learner lgbm\n",
      "[flaml.automl.automl: 01-22 16:27:35] {3507} INFO -  at 0.9s,\testimator lgbm's best error=0.8539,\tbest estimator lgbm's best error=0.8539\n",
      "[flaml.automl.automl: 01-22 16:27:35] {3322} INFO - iteration 9, current learner lgbm\n",
      "[flaml.automl.automl: 01-22 16:27:35] {3507} INFO -  at 1.0s,\testimator lgbm's best error=0.8539,\tbest estimator lgbm's best error=0.8539\n",
      "[flaml.automl.automl: 01-22 16:27:35] {3322} INFO - iteration 10, current learner lgbm\n",
      "[flaml.automl.automl: 01-22 16:27:35] {3507} INFO -  at 1.2s,\testimator lgbm's best error=0.8539,\tbest estimator lgbm's best error=0.8539\n",
      "[flaml.automl.automl: 01-22 16:27:35] {3322} INFO - iteration 11, current learner lgbm\n",
      "[flaml.automl.automl: 01-22 16:27:35] {3507} INFO -  at 1.4s,\testimator lgbm's best error=0.8503,\tbest estimator lgbm's best error=0.8503\n",
      "[flaml.automl.automl: 01-22 16:27:35] {3322} INFO - iteration 12, current learner lgbm\n",
      "[flaml.automl.automl: 01-22 16:27:35] {3507} INFO -  at 1.6s,\testimator lgbm's best error=0.8503,\tbest estimator lgbm's best error=0.8503\n",
      "[flaml.automl.automl: 01-22 16:27:35] {3322} INFO - iteration 13, current learner lgbm\n",
      "[flaml.automl.automl: 01-22 16:27:35] {3507} INFO -  at 1.8s,\testimator lgbm's best error=0.8503,\tbest estimator lgbm's best error=0.8503\n",
      "[flaml.automl.automl: 01-22 16:27:35] {3322} INFO - iteration 14, current learner lgbm\n",
      "[flaml.automl.automl: 01-22 16:27:36] {3507} INFO -  at 2.0s,\testimator lgbm's best error=0.8503,\tbest estimator lgbm's best error=0.8503\n",
      "[flaml.automl.automl: 01-22 16:27:36] {3322} INFO - iteration 15, current learner lgbm\n",
      "[flaml.automl.automl: 01-22 16:27:36] {3507} INFO -  at 2.2s,\testimator lgbm's best error=0.8503,\tbest estimator lgbm's best error=0.8503\n",
      "[flaml.automl.automl: 01-22 16:27:36] {3322} INFO - iteration 16, current learner lgbm\n",
      "[flaml.automl.automl: 01-22 16:27:36] {3507} INFO -  at 2.4s,\testimator lgbm's best error=0.8503,\tbest estimator lgbm's best error=0.8503\n",
      "[flaml.automl.automl: 01-22 16:27:36] {3322} INFO - iteration 17, current learner lgbm\n",
      "[flaml.automl.automl: 01-22 16:27:36] {3507} INFO -  at 2.6s,\testimator lgbm's best error=0.8503,\tbest estimator lgbm's best error=0.8503\n",
      "[flaml.automl.automl: 01-22 16:27:36] {3322} INFO - iteration 18, current learner lgbm\n",
      "[flaml.automl.automl: 01-22 16:27:36] {3507} INFO -  at 2.8s,\testimator lgbm's best error=0.8503,\tbest estimator lgbm's best error=0.8503\n",
      "[flaml.automl.automl: 01-22 16:27:37] {3322} INFO - iteration 19, current learner lgbm\n",
      "[flaml.automl.automl: 01-22 16:27:37] {3507} INFO -  at 3.0s,\testimator lgbm's best error=0.8503,\tbest estimator lgbm's best error=0.8503\n",
      "[flaml.automl.automl: 01-22 16:27:37] {3322} INFO - iteration 20, current learner lgbm\n",
      "[flaml.automl.automl: 01-22 16:27:37] {3507} INFO -  at 3.2s,\testimator lgbm's best error=0.8503,\tbest estimator lgbm's best error=0.8503\n",
      "[flaml.automl.automl: 01-22 16:27:37] {3322} INFO - iteration 21, current learner lgbm\n",
      "[flaml.automl.automl: 01-22 16:27:37] {3507} INFO -  at 3.5s,\testimator lgbm's best error=0.8492,\tbest estimator lgbm's best error=0.8492\n",
      "[flaml.automl.automl: 01-22 16:27:37] {3322} INFO - iteration 22, current learner lgbm\n",
      "[flaml.automl.automl: 01-22 16:27:37] {3507} INFO -  at 3.7s,\testimator lgbm's best error=0.8492,\tbest estimator lgbm's best error=0.8492\n",
      "[flaml.automl.automl: 01-22 16:27:37] {3322} INFO - iteration 23, current learner lgbm\n",
      "[flaml.automl.automl: 01-22 16:27:38] {3507} INFO -  at 3.9s,\testimator lgbm's best error=0.8492,\tbest estimator lgbm's best error=0.8492\n",
      "[flaml.automl.automl: 01-22 16:27:38] {3322} INFO - iteration 24, current learner lgbm\n",
      "[flaml.automl.automl: 01-22 16:27:38] {3507} INFO -  at 4.2s,\testimator lgbm's best error=0.8492,\tbest estimator lgbm's best error=0.8492\n",
      "[flaml.automl.automl: 01-22 16:27:38] {3322} INFO - iteration 25, current learner lgbm\n",
      "[flaml.automl.automl: 01-22 16:27:38] {3507} INFO -  at 4.4s,\testimator lgbm's best error=0.8492,\tbest estimator lgbm's best error=0.8492\n",
      "[flaml.automl.automl: 01-22 16:27:38] {3322} INFO - iteration 26, current learner lgbm\n",
      "[flaml.automl.automl: 01-22 16:27:38] {3507} INFO -  at 4.7s,\testimator lgbm's best error=0.8492,\tbest estimator lgbm's best error=0.8492\n",
      "[flaml.automl.automl: 01-22 16:27:38] {3322} INFO - iteration 27, current learner lgbm\n",
      "[flaml.automl.automl: 01-22 16:27:39] {3507} INFO -  at 4.9s,\testimator lgbm's best error=0.8492,\tbest estimator lgbm's best error=0.8492\n",
      "[flaml.automl.automl: 01-22 16:27:39] {3322} INFO - iteration 28, current learner lgbm\n",
      "[flaml.automl.automl: 01-22 16:27:39] {3507} INFO -  at 5.4s,\testimator lgbm's best error=0.8492,\tbest estimator lgbm's best error=0.8492\n",
      "[flaml.automl.automl: 01-22 16:27:39] {3322} INFO - iteration 29, current learner lgbm\n",
      "[flaml.automl.automl: 01-22 16:27:39] {3507} INFO -  at 5.6s,\testimator lgbm's best error=0.8492,\tbest estimator lgbm's best error=0.8492\n",
      "[flaml.automl.automl: 01-22 16:27:39] {3322} INFO - iteration 30, current learner lgbm\n",
      "[flaml.automl.automl: 01-22 16:27:39] {3507} INFO -  at 5.8s,\testimator lgbm's best error=0.8492,\tbest estimator lgbm's best error=0.8492\n",
      "[flaml.automl.automl: 01-22 16:27:39] {3322} INFO - iteration 31, current learner lgbm\n",
      "[flaml.automl.automl: 01-22 16:27:40] {3507} INFO -  at 6.2s,\testimator lgbm's best error=0.8492,\tbest estimator lgbm's best error=0.8492\n",
      "[flaml.automl.automl: 01-22 16:27:40] {3322} INFO - iteration 32, current learner lgbm\n",
      "[flaml.automl.automl: 01-22 16:27:40] {3507} INFO -  at 6.4s,\testimator lgbm's best error=0.8492,\tbest estimator lgbm's best error=0.8492\n",
      "[flaml.automl.automl: 01-22 16:27:40] {3322} INFO - iteration 33, current learner lgbm\n",
      "[flaml.automl.automl: 01-22 16:27:40] {3507} INFO -  at 6.7s,\testimator lgbm's best error=0.8492,\tbest estimator lgbm's best error=0.8492\n",
      "[flaml.automl.automl: 01-22 16:27:40] {3322} INFO - iteration 34, current learner lgbm\n"
     ]
    },
    {
     "name": "stdout",
     "output_type": "stream",
     "text": [
      "[flaml.automl.automl: 01-22 16:27:41] {3507} INFO -  at 7.0s,\testimator lgbm's best error=0.8492,\tbest estimator lgbm's best error=0.8492\n",
      "[flaml.automl.automl: 01-22 16:27:41] {3322} INFO - iteration 35, current learner lgbm\n",
      "[flaml.automl.automl: 01-22 16:27:41] {3507} INFO -  at 7.2s,\testimator lgbm's best error=0.8492,\tbest estimator lgbm's best error=0.8492\n",
      "[flaml.automl.automl: 01-22 16:27:41] {3322} INFO - iteration 36, current learner lgbm\n",
      "[flaml.automl.automl: 01-22 16:27:41] {3507} INFO -  at 7.7s,\testimator lgbm's best error=0.8492,\tbest estimator lgbm's best error=0.8492\n",
      "[flaml.automl.automl: 01-22 16:27:41] {3322} INFO - iteration 37, current learner lgbm\n",
      "[flaml.automl.automl: 01-22 16:27:42] {3507} INFO -  at 7.9s,\testimator lgbm's best error=0.8492,\tbest estimator lgbm's best error=0.8492\n",
      "[flaml.automl.automl: 01-22 16:27:42] {3322} INFO - iteration 38, current learner lgbm\n",
      "[flaml.automl.automl: 01-22 16:27:42] {3507} INFO -  at 8.3s,\testimator lgbm's best error=0.8492,\tbest estimator lgbm's best error=0.8492\n",
      "[flaml.automl.automl: 01-22 16:27:42] {3322} INFO - iteration 39, current learner lgbm\n",
      "[flaml.automl.automl: 01-22 16:27:42] {3507} INFO -  at 8.5s,\testimator lgbm's best error=0.8492,\tbest estimator lgbm's best error=0.8492\n",
      "[flaml.automl.automl: 01-22 16:27:42] {3322} INFO - iteration 40, current learner lgbm\n",
      "[flaml.automl.automl: 01-22 16:27:43] {3507} INFO -  at 9.1s,\testimator lgbm's best error=0.8492,\tbest estimator lgbm's best error=0.8492\n",
      "[flaml.automl.automl: 01-22 16:27:43] {3322} INFO - iteration 41, current learner lgbm\n",
      "[flaml.automl.automl: 01-22 16:27:43] {3507} INFO -  at 9.3s,\testimator lgbm's best error=0.8492,\tbest estimator lgbm's best error=0.8492\n",
      "[flaml.automl.automl: 01-22 16:27:43] {3322} INFO - iteration 42, current learner lgbm\n",
      "[flaml.automl.automl: 01-22 16:27:43] {3507} INFO -  at 9.5s,\testimator lgbm's best error=0.8492,\tbest estimator lgbm's best error=0.8492\n",
      "[flaml.automl.automl: 01-22 16:27:43] {3322} INFO - iteration 43, current learner lgbm\n",
      "[flaml.automl.automl: 01-22 16:27:44] {3507} INFO -  at 10.1s,\testimator lgbm's best error=0.8492,\tbest estimator lgbm's best error=0.8492\n",
      "[flaml.automl.automl: 01-22 16:27:44] {3322} INFO - iteration 44, current learner lgbm\n",
      "[flaml.automl.automl: 01-22 16:27:44] {3507} INFO -  at 10.4s,\testimator lgbm's best error=0.8492,\tbest estimator lgbm's best error=0.8492\n",
      "[flaml.automl.automl: 01-22 16:27:44] {3322} INFO - iteration 45, current learner lgbm\n",
      "[flaml.automl.automl: 01-22 16:27:44] {3507} INFO -  at 10.6s,\testimator lgbm's best error=0.8492,\tbest estimator lgbm's best error=0.8492\n",
      "[flaml.automl.automl: 01-22 16:27:44] {3322} INFO - iteration 46, current learner lgbm\n",
      "[flaml.automl.automl: 01-22 16:27:44] {3507} INFO -  at 10.8s,\testimator lgbm's best error=0.8492,\tbest estimator lgbm's best error=0.8492\n",
      "[flaml.automl.automl: 01-22 16:27:44] {3322} INFO - iteration 47, current learner lgbm\n",
      "[flaml.automl.automl: 01-22 16:27:45] {3507} INFO -  at 11.3s,\testimator lgbm's best error=0.8492,\tbest estimator lgbm's best error=0.8492\n",
      "[flaml.automl.automl: 01-22 16:27:45] {3322} INFO - iteration 48, current learner lgbm\n",
      "[flaml.automl.automl: 01-22 16:27:45] {3507} INFO -  at 11.5s,\testimator lgbm's best error=0.8492,\tbest estimator lgbm's best error=0.8492\n",
      "[flaml.automl.automl: 01-22 16:27:45] {3322} INFO - iteration 49, current learner lgbm\n",
      "[flaml.automl.automl: 01-22 16:27:46] {3507} INFO -  at 12.1s,\testimator lgbm's best error=0.8492,\tbest estimator lgbm's best error=0.8492\n",
      "[flaml.automl.automl: 01-22 16:27:46] {3322} INFO - iteration 50, current learner lgbm\n",
      "[flaml.automl.automl: 01-22 16:27:46] {3507} INFO -  at 12.3s,\testimator lgbm's best error=0.8492,\tbest estimator lgbm's best error=0.8492\n",
      "[flaml.automl.automl: 01-22 16:27:46] {3322} INFO - iteration 51, current learner lgbm\n",
      "[flaml.automl.automl: 01-22 16:27:47] {3507} INFO -  at 13.0s,\testimator lgbm's best error=0.8492,\tbest estimator lgbm's best error=0.8492\n",
      "[flaml.automl.automl: 01-22 16:27:47] {3322} INFO - iteration 52, current learner lgbm\n",
      "[flaml.automl.automl: 01-22 16:27:47] {3507} INFO -  at 13.6s,\testimator lgbm's best error=0.8492,\tbest estimator lgbm's best error=0.8492\n",
      "[flaml.automl.automl: 01-22 16:27:47] {3322} INFO - iteration 53, current learner lgbm\n",
      "[flaml.automl.automl: 01-22 16:27:48] {3507} INFO -  at 13.8s,\testimator lgbm's best error=0.8492,\tbest estimator lgbm's best error=0.8492\n",
      "[flaml.automl.automl: 01-22 16:27:48] {3322} INFO - iteration 54, current learner lgbm\n",
      "[flaml.automl.automl: 01-22 16:27:48] {3507} INFO -  at 14.4s,\testimator lgbm's best error=0.8492,\tbest estimator lgbm's best error=0.8492\n",
      "[flaml.automl.automl: 01-22 16:27:48] {3322} INFO - iteration 55, current learner lgbm\n",
      "[flaml.automl.automl: 01-22 16:27:48] {3507} INFO -  at 14.6s,\testimator lgbm's best error=0.8492,\tbest estimator lgbm's best error=0.8492\n",
      "[flaml.automl.automl: 01-22 16:27:48] {3322} INFO - iteration 56, current learner lgbm\n",
      "[flaml.automl.automl: 01-22 16:27:49] {3507} INFO -  at 14.9s,\testimator lgbm's best error=0.8492,\tbest estimator lgbm's best error=0.8492\n",
      "[flaml.automl.automl: 01-22 16:27:49] {3322} INFO - iteration 57, current learner lgbm\n",
      "[flaml.automl.automl: 01-22 16:27:49] {3507} INFO -  at 15.1s,\testimator lgbm's best error=0.8492,\tbest estimator lgbm's best error=0.8492\n",
      "[flaml.automl.automl: 01-22 16:27:49] {3322} INFO - iteration 58, current learner lgbm\n",
      "[flaml.automl.automl: 01-22 16:27:49] {3507} INFO -  at 15.4s,\testimator lgbm's best error=0.8492,\tbest estimator lgbm's best error=0.8492\n",
      "[flaml.automl.automl: 01-22 16:27:49] {3322} INFO - iteration 59, current learner lgbm\n",
      "[flaml.automl.automl: 01-22 16:27:49] {3507} INFO -  at 15.6s,\testimator lgbm's best error=0.8492,\tbest estimator lgbm's best error=0.8492\n",
      "[flaml.automl.automl: 01-22 16:27:49] {3322} INFO - iteration 60, current learner lgbm\n",
      "[flaml.automl.automl: 01-22 16:27:50] {3507} INFO -  at 15.8s,\testimator lgbm's best error=0.8492,\tbest estimator lgbm's best error=0.8492\n",
      "[flaml.automl.automl: 01-22 16:27:50] {3322} INFO - iteration 61, current learner lgbm\n",
      "[flaml.automl.automl: 01-22 16:27:50] {3507} INFO -  at 16.3s,\testimator lgbm's best error=0.8492,\tbest estimator lgbm's best error=0.8492\n",
      "[flaml.automl.automl: 01-22 16:27:50] {3322} INFO - iteration 62, current learner lgbm\n",
      "[flaml.automl.automl: 01-22 16:27:51] {3507} INFO -  at 17.0s,\testimator lgbm's best error=0.8492,\tbest estimator lgbm's best error=0.8492\n",
      "[flaml.automl.automl: 01-22 16:27:51] {3322} INFO - iteration 63, current learner lgbm\n",
      "[flaml.automl.automl: 01-22 16:27:51] {3507} INFO -  at 17.2s,\testimator lgbm's best error=0.8492,\tbest estimator lgbm's best error=0.8492\n",
      "[flaml.automl.automl: 01-22 16:27:51] {3322} INFO - iteration 64, current learner lgbm\n",
      "[flaml.automl.automl: 01-22 16:27:51] {3507} INFO -  at 17.5s,\testimator lgbm's best error=0.8492,\tbest estimator lgbm's best error=0.8492\n",
      "[flaml.automl.automl: 01-22 16:27:51] {3322} INFO - iteration 65, current learner lgbm\n",
      "[flaml.automl.automl: 01-22 16:27:51] {3507} INFO -  at 17.8s,\testimator lgbm's best error=0.8492,\tbest estimator lgbm's best error=0.8492\n",
      "[flaml.automl.automl: 01-22 16:27:51] {3322} INFO - iteration 66, current learner lgbm\n",
      "[flaml.automl.automl: 01-22 16:27:52] {3507} INFO -  at 18.1s,\testimator lgbm's best error=0.8492,\tbest estimator lgbm's best error=0.8492\n",
      "[flaml.automl.automl: 01-22 16:27:52] {3322} INFO - iteration 67, current learner lgbm\n",
      "[flaml.automl.automl: 01-22 16:27:52] {3507} INFO -  at 18.3s,\testimator lgbm's best error=0.8492,\tbest estimator lgbm's best error=0.8492\n",
      "[flaml.automl.automl: 01-22 16:27:52] {3322} INFO - iteration 68, current learner lgbm\n",
      "[flaml.automl.automl: 01-22 16:27:52] {3507} INFO -  at 18.5s,\testimator lgbm's best error=0.8492,\tbest estimator lgbm's best error=0.8492\n",
      "[flaml.automl.automl: 01-22 16:27:52] {3322} INFO - iteration 69, current learner lgbm\n",
      "[flaml.automl.automl: 01-22 16:27:52] {3507} INFO -  at 18.8s,\testimator lgbm's best error=0.8492,\tbest estimator lgbm's best error=0.8492\n",
      "[flaml.automl.automl: 01-22 16:27:52] {3322} INFO - iteration 70, current learner lgbm\n",
      "[flaml.automl.automl: 01-22 16:27:53] {3507} INFO -  at 19.5s,\testimator lgbm's best error=0.8492,\tbest estimator lgbm's best error=0.8492\n"
     ]
    },
    {
     "name": "stdout",
     "output_type": "stream",
     "text": [
      "[flaml.automl.automl: 01-22 16:27:53] {3322} INFO - iteration 71, current learner lgbm\n",
      "[flaml.automl.automl: 01-22 16:27:53] {3507} INFO -  at 19.6s,\testimator lgbm's best error=0.8492,\tbest estimator lgbm's best error=0.8492\n",
      "[flaml.automl.automl: 01-22 16:27:53] {3322} INFO - iteration 72, current learner lgbm\n",
      "[flaml.automl.automl: 01-22 16:27:54] {3507} INFO -  at 19.9s,\testimator lgbm's best error=0.8492,\tbest estimator lgbm's best error=0.8492\n",
      "[flaml.automl.automl: 01-22 16:27:54] {3322} INFO - iteration 73, current learner lgbm\n",
      "[flaml.automl.automl: 01-22 16:27:54] {3507} INFO -  at 20.1s,\testimator lgbm's best error=0.8492,\tbest estimator lgbm's best error=0.8492\n",
      "[flaml.automl.automl: 01-22 16:27:54] {3322} INFO - iteration 74, current learner lgbm\n",
      "[flaml.automl.automl: 01-22 16:27:54] {3507} INFO -  at 20.3s,\testimator lgbm's best error=0.8492,\tbest estimator lgbm's best error=0.8492\n",
      "[flaml.automl.automl: 01-22 16:27:54] {3322} INFO - iteration 75, current learner lgbm\n",
      "[flaml.automl.automl: 01-22 16:27:55] {3507} INFO -  at 20.9s,\testimator lgbm's best error=0.8492,\tbest estimator lgbm's best error=0.8492\n",
      "[flaml.automl.automl: 01-22 16:27:55] {3322} INFO - iteration 76, current learner lgbm\n",
      "[flaml.automl.automl: 01-22 16:27:55] {3507} INFO -  at 21.4s,\testimator lgbm's best error=0.8492,\tbest estimator lgbm's best error=0.8492\n",
      "[flaml.automl.automl: 01-22 16:27:55] {3322} INFO - iteration 77, current learner lgbm\n",
      "[flaml.automl.automl: 01-22 16:27:55] {3507} INFO -  at 21.6s,\testimator lgbm's best error=0.8492,\tbest estimator lgbm's best error=0.8492\n",
      "[flaml.automl.automl: 01-22 16:27:55] {3322} INFO - iteration 78, current learner lgbm\n",
      "[flaml.automl.automl: 01-22 16:27:55] {3507} INFO -  at 21.8s,\testimator lgbm's best error=0.8492,\tbest estimator lgbm's best error=0.8492\n",
      "[flaml.automl.automl: 01-22 16:27:55] {3322} INFO - iteration 79, current learner lgbm\n",
      "[flaml.automl.automl: 01-22 16:27:56] {3507} INFO -  at 22.4s,\testimator lgbm's best error=0.8492,\tbest estimator lgbm's best error=0.8492\n",
      "[flaml.automl.automl: 01-22 16:27:56] {3322} INFO - iteration 80, current learner lgbm\n",
      "[flaml.automl.automl: 01-22 16:27:56] {3507} INFO -  at 22.7s,\testimator lgbm's best error=0.8492,\tbest estimator lgbm's best error=0.8492\n",
      "[flaml.automl.automl: 01-22 16:27:56] {3322} INFO - iteration 81, current learner lgbm\n",
      "[flaml.automl.automl: 01-22 16:27:57] {3507} INFO -  at 22.9s,\testimator lgbm's best error=0.8492,\tbest estimator lgbm's best error=0.8492\n",
      "[flaml.automl.automl: 01-22 16:27:57] {3322} INFO - iteration 82, current learner lgbm\n",
      "[flaml.automl.automl: 01-22 16:27:57] {3507} INFO -  at 23.4s,\testimator lgbm's best error=0.8492,\tbest estimator lgbm's best error=0.8492\n",
      "[flaml.automl.automl: 01-22 16:27:57] {3322} INFO - iteration 83, current learner lgbm\n",
      "[flaml.automl.automl: 01-22 16:27:57] {3507} INFO -  at 23.6s,\testimator lgbm's best error=0.8492,\tbest estimator lgbm's best error=0.8492\n",
      "[flaml.automl.automl: 01-22 16:27:57] {3322} INFO - iteration 84, current learner lgbm\n",
      "[flaml.automl.automl: 01-22 16:27:57] {3507} INFO -  at 23.8s,\testimator lgbm's best error=0.8492,\tbest estimator lgbm's best error=0.8492\n",
      "[flaml.automl.automl: 01-22 16:27:57] {3322} INFO - iteration 85, current learner lgbm\n",
      "[flaml.automl.automl: 01-22 16:27:58] {3507} INFO -  at 24.1s,\testimator lgbm's best error=0.8492,\tbest estimator lgbm's best error=0.8492\n",
      "[flaml.automl.automl: 01-22 16:27:58] {3322} INFO - iteration 86, current learner lgbm\n",
      "[flaml.automl.automl: 01-22 16:27:58] {3507} INFO -  at 24.3s,\testimator lgbm's best error=0.8492,\tbest estimator lgbm's best error=0.8492\n",
      "[flaml.automl.automl: 01-22 16:27:58] {3322} INFO - iteration 87, current learner lgbm\n",
      "[flaml.automl.automl: 01-22 16:27:58] {3507} INFO -  at 24.6s,\testimator lgbm's best error=0.8492,\tbest estimator lgbm's best error=0.8492\n",
      "[flaml.automl.automl: 01-22 16:27:58] {3322} INFO - iteration 88, current learner lgbm\n",
      "[flaml.automl.automl: 01-22 16:27:59] {3507} INFO -  at 24.8s,\testimator lgbm's best error=0.8492,\tbest estimator lgbm's best error=0.8492\n",
      "[flaml.automl.automl: 01-22 16:27:59] {3322} INFO - iteration 89, current learner lgbm\n",
      "[flaml.automl.automl: 01-22 16:27:59] {3507} INFO -  at 25.1s,\testimator lgbm's best error=0.8492,\tbest estimator lgbm's best error=0.8492\n",
      "[flaml.automl.automl: 01-22 16:27:59] {3322} INFO - iteration 90, current learner lgbm\n",
      "[flaml.automl.automl: 01-22 16:27:59] {3507} INFO -  at 25.3s,\testimator lgbm's best error=0.8492,\tbest estimator lgbm's best error=0.8492\n",
      "[flaml.automl.automl: 01-22 16:27:59] {3322} INFO - iteration 91, current learner lgbm\n",
      "[flaml.automl.automl: 01-22 16:27:59] {3507} INFO -  at 25.5s,\testimator lgbm's best error=0.8492,\tbest estimator lgbm's best error=0.8492\n",
      "[flaml.automl.automl: 01-22 16:27:59] {3322} INFO - iteration 92, current learner lgbm\n",
      "[flaml.automl.automl: 01-22 16:27:59] {3507} INFO -  at 25.7s,\testimator lgbm's best error=0.8492,\tbest estimator lgbm's best error=0.8492\n",
      "[flaml.automl.automl: 01-22 16:27:59] {3322} INFO - iteration 93, current learner lgbm\n",
      "[flaml.automl.automl: 01-22 16:28:00] {3507} INFO -  at 26.1s,\testimator lgbm's best error=0.8492,\tbest estimator lgbm's best error=0.8492\n",
      "[flaml.automl.automl: 01-22 16:28:00] {3322} INFO - iteration 94, current learner lgbm\n",
      "[flaml.automl.automl: 01-22 16:28:00] {3507} INFO -  at 26.3s,\testimator lgbm's best error=0.8492,\tbest estimator lgbm's best error=0.8492\n",
      "[flaml.automl.automl: 01-22 16:28:00] {3322} INFO - iteration 95, current learner lgbm\n",
      "[flaml.automl.automl: 01-22 16:28:00] {3507} INFO -  at 26.7s,\testimator lgbm's best error=0.8492,\tbest estimator lgbm's best error=0.8492\n",
      "[flaml.automl.automl: 01-22 16:28:00] {3322} INFO - iteration 96, current learner lgbm\n",
      "[flaml.automl.automl: 01-22 16:28:01] {3507} INFO -  at 27.1s,\testimator lgbm's best error=0.8492,\tbest estimator lgbm's best error=0.8492\n",
      "[flaml.automl.automl: 01-22 16:28:01] {3322} INFO - iteration 97, current learner lgbm\n",
      "[flaml.automl.automl: 01-22 16:28:01] {3507} INFO -  at 27.3s,\testimator lgbm's best error=0.8492,\tbest estimator lgbm's best error=0.8492\n",
      "[flaml.automl.automl: 01-22 16:28:01] {3322} INFO - iteration 98, current learner lgbm\n",
      "[flaml.automl.automl: 01-22 16:28:01] {3507} INFO -  at 27.5s,\testimator lgbm's best error=0.8492,\tbest estimator lgbm's best error=0.8492\n",
      "[flaml.automl.automl: 01-22 16:28:01] {3322} INFO - iteration 99, current learner lgbm\n",
      "[flaml.automl.automl: 01-22 16:28:02] {3507} INFO -  at 27.8s,\testimator lgbm's best error=0.8492,\tbest estimator lgbm's best error=0.8492\n",
      "[flaml.automl.automl: 01-22 16:28:02] {3322} INFO - iteration 100, current learner lgbm\n",
      "[flaml.automl.automl: 01-22 16:28:02] {3507} INFO -  at 28.1s,\testimator lgbm's best error=0.8492,\tbest estimator lgbm's best error=0.8492\n",
      "[flaml.automl.automl: 01-22 16:28:02] {3322} INFO - iteration 101, current learner lgbm\n",
      "[flaml.automl.automl: 01-22 16:28:02] {3507} INFO -  at 28.4s,\testimator lgbm's best error=0.8492,\tbest estimator lgbm's best error=0.8492\n",
      "[flaml.automl.automl: 01-22 16:28:02] {3322} INFO - iteration 102, current learner lgbm\n",
      "[flaml.automl.automl: 01-22 16:28:02] {3507} INFO -  at 28.8s,\testimator lgbm's best error=0.8492,\tbest estimator lgbm's best error=0.8492\n",
      "[flaml.automl.automl: 01-22 16:28:02] {3322} INFO - iteration 103, current learner lgbm\n",
      "[flaml.automl.automl: 01-22 16:28:03] {3507} INFO -  at 29.0s,\testimator lgbm's best error=0.8492,\tbest estimator lgbm's best error=0.8492\n",
      "[flaml.automl.automl: 01-22 16:28:03] {3322} INFO - iteration 104, current learner lgbm\n",
      "[flaml.automl.automl: 01-22 16:28:03] {3507} INFO -  at 29.4s,\testimator lgbm's best error=0.8492,\tbest estimator lgbm's best error=0.8492\n",
      "[flaml.automl.automl: 01-22 16:28:03] {3322} INFO - iteration 105, current learner lgbm\n",
      "[flaml.automl.automl: 01-22 16:28:03] {3507} INFO -  at 29.5s,\testimator lgbm's best error=0.8492,\tbest estimator lgbm's best error=0.8492\n",
      "[flaml.automl.automl: 01-22 16:28:03] {3322} INFO - iteration 106, current learner lgbm\n",
      "[flaml.automl.automl: 01-22 16:28:04] {3507} INFO -  at 30.0s,\testimator lgbm's best error=0.8492,\tbest estimator lgbm's best error=0.8492\n",
      "[flaml.automl.automl: 01-22 16:28:04] {3322} INFO - iteration 107, current learner lgbm\n"
     ]
    },
    {
     "name": "stdout",
     "output_type": "stream",
     "text": [
      "[flaml.automl.automl: 01-22 16:28:04] {3507} INFO -  at 30.2s,\testimator lgbm's best error=0.8492,\tbest estimator lgbm's best error=0.8492\n",
      "[flaml.automl.automl: 01-22 16:28:04] {3322} INFO - iteration 108, current learner lgbm\n",
      "[flaml.automl.automl: 01-22 16:28:04] {3507} INFO -  at 30.4s,\testimator lgbm's best error=0.8492,\tbest estimator lgbm's best error=0.8492\n",
      "[flaml.automl.automl: 01-22 16:28:04] {3322} INFO - iteration 109, current learner lgbm\n",
      "[flaml.automl.automl: 01-22 16:28:04] {3507} INFO -  at 30.7s,\testimator lgbm's best error=0.8492,\tbest estimator lgbm's best error=0.8492\n",
      "[flaml.automl.automl: 01-22 16:28:04] {3322} INFO - iteration 110, current learner lgbm\n",
      "[flaml.automl.automl: 01-22 16:28:05] {3507} INFO -  at 30.9s,\testimator lgbm's best error=0.8492,\tbest estimator lgbm's best error=0.8492\n",
      "[flaml.automl.automl: 01-22 16:28:05] {3322} INFO - iteration 111, current learner lgbm\n",
      "[flaml.automl.automl: 01-22 16:28:05] {3507} INFO -  at 31.2s,\testimator lgbm's best error=0.8492,\tbest estimator lgbm's best error=0.8492\n",
      "[flaml.automl.automl: 01-22 16:28:05] {3322} INFO - iteration 112, current learner lgbm\n",
      "[flaml.automl.automl: 01-22 16:28:05] {3507} INFO -  at 31.8s,\testimator lgbm's best error=0.8492,\tbest estimator lgbm's best error=0.8492\n",
      "[flaml.automl.automl: 01-22 16:28:05] {3322} INFO - iteration 113, current learner lgbm\n",
      "[flaml.automl.automl: 01-22 16:28:06] {3507} INFO -  at 31.9s,\testimator lgbm's best error=0.8492,\tbest estimator lgbm's best error=0.8492\n",
      "[flaml.automl.automl: 01-22 16:28:06] {3322} INFO - iteration 114, current learner lgbm\n",
      "[flaml.automl.automl: 01-22 16:28:06] {3507} INFO -  at 32.2s,\testimator lgbm's best error=0.8492,\tbest estimator lgbm's best error=0.8492\n",
      "[flaml.automl.automl: 01-22 16:28:06] {3322} INFO - iteration 115, current learner lgbm\n",
      "[flaml.automl.automl: 01-22 16:28:06] {3507} INFO -  at 32.4s,\testimator lgbm's best error=0.8492,\tbest estimator lgbm's best error=0.8492\n",
      "[flaml.automl.automl: 01-22 16:28:06] {3322} INFO - iteration 116, current learner lgbm\n",
      "[flaml.automl.automl: 01-22 16:28:06] {3507} INFO -  at 32.6s,\testimator lgbm's best error=0.8492,\tbest estimator lgbm's best error=0.8492\n",
      "[flaml.automl.automl: 01-22 16:28:06] {3322} INFO - iteration 117, current learner lgbm\n",
      "[flaml.automl.automl: 01-22 16:28:07] {3507} INFO -  at 33.0s,\testimator lgbm's best error=0.8492,\tbest estimator lgbm's best error=0.8492\n",
      "[flaml.automl.automl: 01-22 16:28:07] {3322} INFO - iteration 118, current learner lgbm\n",
      "[flaml.automl.automl: 01-22 16:28:07] {3507} INFO -  at 33.5s,\testimator lgbm's best error=0.8492,\tbest estimator lgbm's best error=0.8492\n",
      "[flaml.automl.automl: 01-22 16:28:07] {3322} INFO - iteration 119, current learner lgbm\n",
      "[flaml.automl.automl: 01-22 16:28:07] {3507} INFO -  at 33.7s,\testimator lgbm's best error=0.8492,\tbest estimator lgbm's best error=0.8492\n",
      "[flaml.automl.automl: 01-22 16:28:07] {3322} INFO - iteration 120, current learner lgbm\n",
      "[flaml.automl.automl: 01-22 16:28:08] {3507} INFO -  at 34.0s,\testimator lgbm's best error=0.8492,\tbest estimator lgbm's best error=0.8492\n",
      "[flaml.automl.automl: 01-22 16:28:08] {3322} INFO - iteration 121, current learner lgbm\n",
      "[flaml.automl.automl: 01-22 16:28:08] {3507} INFO -  at 34.2s,\testimator lgbm's best error=0.8492,\tbest estimator lgbm's best error=0.8492\n",
      "[flaml.automl.automl: 01-22 16:28:08] {3322} INFO - iteration 122, current learner lgbm\n",
      "[flaml.automl.automl: 01-22 16:28:08] {3507} INFO -  at 34.6s,\testimator lgbm's best error=0.8487,\tbest estimator lgbm's best error=0.8487\n",
      "[flaml.automl.automl: 01-22 16:28:08] {3322} INFO - iteration 123, current learner lgbm\n",
      "[flaml.automl.automl: 01-22 16:28:08] {3507} INFO -  at 34.8s,\testimator lgbm's best error=0.8487,\tbest estimator lgbm's best error=0.8487\n",
      "[flaml.automl.automl: 01-22 16:28:08] {3322} INFO - iteration 124, current learner lgbm\n",
      "[flaml.automl.automl: 01-22 16:28:09] {3507} INFO -  at 35.1s,\testimator lgbm's best error=0.8487,\tbest estimator lgbm's best error=0.8487\n",
      "[flaml.automl.automl: 01-22 16:28:09] {3322} INFO - iteration 125, current learner lgbm\n",
      "[flaml.automl.automl: 01-22 16:28:09] {3507} INFO -  at 35.5s,\testimator lgbm's best error=0.8487,\tbest estimator lgbm's best error=0.8487\n",
      "[flaml.automl.automl: 01-22 16:28:09] {3322} INFO - iteration 126, current learner lgbm\n",
      "[flaml.automl.automl: 01-22 16:28:09] {3507} INFO -  at 35.8s,\testimator lgbm's best error=0.8487,\tbest estimator lgbm's best error=0.8487\n",
      "[flaml.automl.automl: 01-22 16:28:09] {3322} INFO - iteration 127, current learner lgbm\n",
      "[flaml.automl.automl: 01-22 16:28:10] {3507} INFO -  at 36.1s,\testimator lgbm's best error=0.8487,\tbest estimator lgbm's best error=0.8487\n",
      "[flaml.automl.automl: 01-22 16:28:10] {3322} INFO - iteration 128, current learner lgbm\n",
      "[flaml.automl.automl: 01-22 16:28:11] {3507} INFO -  at 36.9s,\testimator lgbm's best error=0.8487,\tbest estimator lgbm's best error=0.8487\n",
      "[flaml.automl.automl: 01-22 16:28:11] {3322} INFO - iteration 129, current learner lgbm\n",
      "[flaml.automl.automl: 01-22 16:28:11] {3507} INFO -  at 37.1s,\testimator lgbm's best error=0.8487,\tbest estimator lgbm's best error=0.8487\n",
      "[flaml.automl.automl: 01-22 16:28:11] {3322} INFO - iteration 130, current learner lgbm\n",
      "[flaml.automl.automl: 01-22 16:28:11] {3507} INFO -  at 37.4s,\testimator lgbm's best error=0.8487,\tbest estimator lgbm's best error=0.8487\n",
      "[flaml.automl.automl: 01-22 16:28:11] {3322} INFO - iteration 131, current learner lgbm\n",
      "[flaml.automl.automl: 01-22 16:28:11] {3507} INFO -  at 37.7s,\testimator lgbm's best error=0.8487,\tbest estimator lgbm's best error=0.8487\n",
      "[flaml.automl.automl: 01-22 16:28:11] {3322} INFO - iteration 132, current learner lgbm\n",
      "[flaml.automl.automl: 01-22 16:28:12] {3507} INFO -  at 38.0s,\testimator lgbm's best error=0.8487,\tbest estimator lgbm's best error=0.8487\n",
      "[flaml.automl.automl: 01-22 16:28:12] {3322} INFO - iteration 133, current learner lgbm\n",
      "[flaml.automl.automl: 01-22 16:28:12] {3507} INFO -  at 38.5s,\testimator lgbm's best error=0.8487,\tbest estimator lgbm's best error=0.8487\n",
      "[flaml.automl.automl: 01-22 16:28:12] {3322} INFO - iteration 134, current learner lgbm\n",
      "[flaml.automl.automl: 01-22 16:28:13] {3507} INFO -  at 39.5s,\testimator lgbm's best error=0.8487,\tbest estimator lgbm's best error=0.8487\n",
      "[flaml.automl.automl: 01-22 16:28:13] {3322} INFO - iteration 135, current learner lgbm\n",
      "[flaml.automl.automl: 01-22 16:28:13] {3507} INFO -  at 39.7s,\testimator lgbm's best error=0.8487,\tbest estimator lgbm's best error=0.8487\n",
      "[flaml.automl.automl: 01-22 16:28:13] {3322} INFO - iteration 136, current learner lgbm\n",
      "[flaml.automl.automl: 01-22 16:28:14] {3507} INFO -  at 39.9s,\testimator lgbm's best error=0.8487,\tbest estimator lgbm's best error=0.8487\n",
      "[flaml.automl.automl: 01-22 16:28:14] {3322} INFO - iteration 137, current learner lgbm\n",
      "[flaml.automl.automl: 01-22 16:28:14] {3507} INFO -  at 40.3s,\testimator lgbm's best error=0.8487,\tbest estimator lgbm's best error=0.8487\n",
      "[flaml.automl.automl: 01-22 16:28:14] {3322} INFO - iteration 138, current learner lgbm\n",
      "[flaml.automl.automl: 01-22 16:28:14] {3507} INFO -  at 40.8s,\testimator lgbm's best error=0.8487,\tbest estimator lgbm's best error=0.8487\n",
      "[flaml.automl.automl: 01-22 16:28:14] {3322} INFO - iteration 139, current learner lgbm\n",
      "[flaml.automl.automl: 01-22 16:28:15] {3507} INFO -  at 41.0s,\testimator lgbm's best error=0.8487,\tbest estimator lgbm's best error=0.8487\n",
      "[flaml.automl.automl: 01-22 16:28:15] {3322} INFO - iteration 140, current learner lgbm\n",
      "[flaml.automl.automl: 01-22 16:28:15] {3507} INFO -  at 41.2s,\testimator lgbm's best error=0.8487,\tbest estimator lgbm's best error=0.8487\n",
      "[flaml.automl.automl: 01-22 16:28:15] {3322} INFO - iteration 141, current learner lgbm\n",
      "[flaml.automl.automl: 01-22 16:28:16] {3507} INFO -  at 42.2s,\testimator lgbm's best error=0.8487,\tbest estimator lgbm's best error=0.8487\n",
      "[flaml.automl.automl: 01-22 16:28:16] {3322} INFO - iteration 142, current learner lgbm\n",
      "[flaml.automl.automl: 01-22 16:28:16] {3507} INFO -  at 42.4s,\testimator lgbm's best error=0.8487,\tbest estimator lgbm's best error=0.8487\n",
      "[flaml.automl.automl: 01-22 16:28:16] {3322} INFO - iteration 143, current learner lgbm\n",
      "[flaml.automl.automl: 01-22 16:28:17] {3507} INFO -  at 43.0s,\testimator lgbm's best error=0.8487,\tbest estimator lgbm's best error=0.8487\n"
     ]
    },
    {
     "name": "stdout",
     "output_type": "stream",
     "text": [
      "[flaml.automl.automl: 01-22 16:28:17] {3322} INFO - iteration 144, current learner lgbm\n",
      "[flaml.automl.automl: 01-22 16:28:17] {3507} INFO -  at 43.2s,\testimator lgbm's best error=0.8487,\tbest estimator lgbm's best error=0.8487\n",
      "[flaml.automl.automl: 01-22 16:28:17] {3322} INFO - iteration 145, current learner lgbm\n",
      "[flaml.automl.automl: 01-22 16:28:18] {3507} INFO -  at 43.9s,\testimator lgbm's best error=0.8487,\tbest estimator lgbm's best error=0.8487\n",
      "[flaml.automl.automl: 01-22 16:28:18] {3322} INFO - iteration 146, current learner lgbm\n",
      "[flaml.automl.automl: 01-22 16:28:18] {3507} INFO -  at 44.0s,\testimator lgbm's best error=0.8487,\tbest estimator lgbm's best error=0.8487\n",
      "[flaml.automl.automl: 01-22 16:28:18] {3322} INFO - iteration 147, current learner lgbm\n",
      "[flaml.automl.automl: 01-22 16:28:19] {3507} INFO -  at 45.2s,\testimator lgbm's best error=0.8487,\tbest estimator lgbm's best error=0.8487\n",
      "[flaml.automl.automl: 01-22 16:28:19] {3322} INFO - iteration 148, current learner lgbm\n",
      "[flaml.automl.automl: 01-22 16:28:19] {3507} INFO -  at 45.5s,\testimator lgbm's best error=0.8487,\tbest estimator lgbm's best error=0.8487\n",
      "[flaml.automl.automl: 01-22 16:28:19] {3322} INFO - iteration 149, current learner lgbm\n",
      "[flaml.automl.automl: 01-22 16:28:19] {3507} INFO -  at 45.8s,\testimator lgbm's best error=0.8487,\tbest estimator lgbm's best error=0.8487\n",
      "[flaml.automl.automl: 01-22 16:28:19] {3322} INFO - iteration 150, current learner lgbm\n",
      "[flaml.automl.automl: 01-22 16:28:20] {3507} INFO -  at 46.0s,\testimator lgbm's best error=0.8487,\tbest estimator lgbm's best error=0.8487\n",
      "[flaml.automl.automl: 01-22 16:28:20] {3322} INFO - iteration 151, current learner lgbm\n",
      "[flaml.automl.automl: 01-22 16:28:21] {3507} INFO -  at 46.8s,\testimator lgbm's best error=0.8487,\tbest estimator lgbm's best error=0.8487\n",
      "[flaml.automl.automl: 01-22 16:28:21] {3322} INFO - iteration 152, current learner lgbm\n",
      "[flaml.automl.automl: 01-22 16:28:21] {3507} INFO -  at 47.3s,\testimator lgbm's best error=0.8487,\tbest estimator lgbm's best error=0.8487\n",
      "[flaml.automl.automl: 01-22 16:28:21] {3322} INFO - iteration 153, current learner lgbm\n",
      "[flaml.automl.automl: 01-22 16:28:21] {3507} INFO -  at 47.5s,\testimator lgbm's best error=0.8487,\tbest estimator lgbm's best error=0.8487\n",
      "[flaml.automl.automl: 01-22 16:28:21] {3322} INFO - iteration 154, current learner lgbm\n",
      "[flaml.automl.automl: 01-22 16:28:21] {3507} INFO -  at 47.7s,\testimator lgbm's best error=0.8487,\tbest estimator lgbm's best error=0.8487\n",
      "[flaml.automl.automl: 01-22 16:28:21] {3322} INFO - iteration 155, current learner lgbm\n",
      "[flaml.automl.automl: 01-22 16:28:22] {3507} INFO -  at 48.5s,\testimator lgbm's best error=0.8487,\tbest estimator lgbm's best error=0.8487\n",
      "[flaml.automl.automl: 01-22 16:28:22] {3322} INFO - iteration 156, current learner lgbm\n",
      "[flaml.automl.automl: 01-22 16:28:23] {3507} INFO -  at 49.5s,\testimator lgbm's best error=0.8487,\tbest estimator lgbm's best error=0.8487\n",
      "[flaml.automl.automl: 01-22 16:28:23] {3322} INFO - iteration 157, current learner lgbm\n",
      "[flaml.automl.automl: 01-22 16:28:23] {3507} INFO -  at 49.7s,\testimator lgbm's best error=0.8487,\tbest estimator lgbm's best error=0.8487\n",
      "[flaml.automl.automl: 01-22 16:28:23] {3322} INFO - iteration 158, current learner lgbm\n",
      "[flaml.automl.automl: 01-22 16:28:24] {3507} INFO -  at 49.9s,\testimator lgbm's best error=0.8487,\tbest estimator lgbm's best error=0.8487\n",
      "[flaml.automl.automl: 01-22 16:28:24] {3322} INFO - iteration 159, current learner lgbm\n",
      "[flaml.automl.automl: 01-22 16:28:25] {3507} INFO -  at 50.9s,\testimator lgbm's best error=0.8487,\tbest estimator lgbm's best error=0.8487\n",
      "[flaml.automl.automl: 01-22 16:28:25] {3322} INFO - iteration 160, current learner lgbm\n",
      "[flaml.automl.automl: 01-22 16:28:25] {3507} INFO -  at 51.2s,\testimator lgbm's best error=0.8487,\tbest estimator lgbm's best error=0.8487\n",
      "[flaml.automl.automl: 01-22 16:28:25] {3322} INFO - iteration 161, current learner lgbm\n",
      "[flaml.automl.automl: 01-22 16:28:25] {3507} INFO -  at 51.5s,\testimator lgbm's best error=0.8487,\tbest estimator lgbm's best error=0.8487\n",
      "[flaml.automl.automl: 01-22 16:28:25] {3322} INFO - iteration 162, current learner lgbm\n",
      "[flaml.automl.automl: 01-22 16:28:25] {3507} INFO -  at 51.8s,\testimator lgbm's best error=0.8487,\tbest estimator lgbm's best error=0.8487\n",
      "[flaml.automl.automl: 01-22 16:28:25] {3322} INFO - iteration 163, current learner lgbm\n",
      "[flaml.automl.automl: 01-22 16:28:26] {3507} INFO -  at 52.1s,\testimator lgbm's best error=0.8487,\tbest estimator lgbm's best error=0.8487\n",
      "[flaml.automl.automl: 01-22 16:28:26] {3322} INFO - iteration 164, current learner lgbm\n",
      "[flaml.automl.automl: 01-22 16:28:26] {3507} INFO -  at 52.4s,\testimator lgbm's best error=0.8487,\tbest estimator lgbm's best error=0.8487\n",
      "[flaml.automl.automl: 01-22 16:28:26] {3322} INFO - iteration 165, current learner lgbm\n",
      "[flaml.automl.automl: 01-22 16:28:26] {3507} INFO -  at 52.7s,\testimator lgbm's best error=0.8487,\tbest estimator lgbm's best error=0.8487\n",
      "[flaml.automl.automl: 01-22 16:28:26] {3322} INFO - iteration 166, current learner lgbm\n",
      "[flaml.automl.automl: 01-22 16:28:27] {3507} INFO -  at 53.0s,\testimator lgbm's best error=0.8487,\tbest estimator lgbm's best error=0.8487\n",
      "[flaml.automl.automl: 01-22 16:28:27] {3322} INFO - iteration 167, current learner lgbm\n",
      "[flaml.automl.automl: 01-22 16:28:27] {3507} INFO -  at 53.3s,\testimator lgbm's best error=0.8487,\tbest estimator lgbm's best error=0.8487\n",
      "[flaml.automl.automl: 01-22 16:28:27] {3322} INFO - iteration 168, current learner lgbm\n",
      "[flaml.automl.automl: 01-22 16:28:27] {3507} INFO -  at 53.5s,\testimator lgbm's best error=0.8487,\tbest estimator lgbm's best error=0.8487\n",
      "[flaml.automl.automl: 01-22 16:28:27] {3322} INFO - iteration 169, current learner lgbm\n",
      "[flaml.automl.automl: 01-22 16:28:29] {3507} INFO -  at 55.2s,\testimator lgbm's best error=0.8487,\tbest estimator lgbm's best error=0.8487\n",
      "[flaml.automl.automl: 01-22 16:28:29] {3322} INFO - iteration 170, current learner lgbm\n",
      "[flaml.automl.automl: 01-22 16:28:29] {3507} INFO -  at 55.4s,\testimator lgbm's best error=0.8487,\tbest estimator lgbm's best error=0.8487\n",
      "[flaml.automl.automl: 01-22 16:28:29] {3322} INFO - iteration 171, current learner lgbm\n",
      "[flaml.automl.automl: 01-22 16:28:30] {3507} INFO -  at 56.2s,\testimator lgbm's best error=0.8487,\tbest estimator lgbm's best error=0.8487\n",
      "[flaml.automl.automl: 01-22 16:28:30] {3322} INFO - iteration 172, current learner lgbm\n",
      "[flaml.automl.automl: 01-22 16:28:30] {3507} INFO -  at 56.6s,\testimator lgbm's best error=0.8487,\tbest estimator lgbm's best error=0.8487\n",
      "[flaml.automl.automl: 01-22 16:28:30] {3322} INFO - iteration 173, current learner lgbm\n",
      "[flaml.automl.automl: 01-22 16:28:31] {3507} INFO -  at 56.9s,\testimator lgbm's best error=0.8487,\tbest estimator lgbm's best error=0.8487\n",
      "[flaml.automl.automl: 01-22 16:28:31] {3322} INFO - iteration 174, current learner lgbm\n",
      "[flaml.automl.automl: 01-22 16:28:31] {3507} INFO -  at 57.4s,\testimator lgbm's best error=0.8487,\tbest estimator lgbm's best error=0.8487\n",
      "[flaml.automl.automl: 01-22 16:28:31] {3322} INFO - iteration 175, current learner lgbm\n",
      "[flaml.automl.automl: 01-22 16:28:31] {3507} INFO -  at 57.6s,\testimator lgbm's best error=0.8487,\tbest estimator lgbm's best error=0.8487\n",
      "[flaml.automl.automl: 01-22 16:28:31] {3322} INFO - iteration 176, current learner lgbm\n",
      "[flaml.automl.automl: 01-22 16:28:32] {3507} INFO -  at 57.9s,\testimator lgbm's best error=0.8487,\tbest estimator lgbm's best error=0.8487\n",
      "[flaml.automl.automl: 01-22 16:28:32] {3322} INFO - iteration 177, current learner lgbm\n",
      "[flaml.automl.automl: 01-22 16:28:32] {3507} INFO -  at 58.2s,\testimator lgbm's best error=0.8487,\tbest estimator lgbm's best error=0.8487\n",
      "[flaml.automl.automl: 01-22 16:28:32] {3322} INFO - iteration 178, current learner lgbm\n",
      "[flaml.automl.automl: 01-22 16:28:32] {3507} INFO -  at 58.7s,\testimator lgbm's best error=0.8487,\tbest estimator lgbm's best error=0.8487\n",
      "[flaml.automl.automl: 01-22 16:28:32] {3322} INFO - iteration 179, current learner lgbm\n",
      "[flaml.automl.automl: 01-22 16:28:33] {3507} INFO -  at 58.9s,\testimator lgbm's best error=0.8487,\tbest estimator lgbm's best error=0.8487\n",
      "[flaml.automl.automl: 01-22 16:28:33] {3322} INFO - iteration 180, current learner lgbm\n"
     ]
    },
    {
     "name": "stdout",
     "output_type": "stream",
     "text": [
      "[flaml.automl.automl: 01-22 16:28:33] {3507} INFO -  at 59.3s,\testimator lgbm's best error=0.8487,\tbest estimator lgbm's best error=0.8487\n",
      "[flaml.automl.automl: 01-22 16:28:33] {3322} INFO - iteration 181, current learner lgbm\n",
      "[flaml.automl.automl: 01-22 16:28:33] {3507} INFO -  at 59.5s,\testimator lgbm's best error=0.8487,\tbest estimator lgbm's best error=0.8487\n",
      "[flaml.automl.automl: 01-22 16:28:33] {3322} INFO - iteration 182, current learner lgbm\n",
      "[flaml.automl.automl: 01-22 16:28:33] {3507} INFO -  at 59.8s,\testimator lgbm's best error=0.8487,\tbest estimator lgbm's best error=0.8487\n",
      "[flaml.automl.automl: 01-22 16:28:33] {3322} INFO - iteration 183, current learner lgbm\n",
      "[flaml.automl.automl: 01-22 16:28:34] {3507} INFO -  at 60.1s,\testimator lgbm's best error=0.8487,\tbest estimator lgbm's best error=0.8487\n",
      "[flaml.automl.automl: 01-22 16:28:34] {3322} INFO - iteration 184, current learner lgbm\n",
      "[flaml.automl.automl: 01-22 16:28:34] {3507} INFO -  at 60.7s,\testimator lgbm's best error=0.8487,\tbest estimator lgbm's best error=0.8487\n",
      "[flaml.automl.automl: 01-22 16:28:34] {3322} INFO - iteration 185, current learner lgbm\n",
      "[flaml.automl.automl: 01-22 16:28:35] {3507} INFO -  at 60.9s,\testimator lgbm's best error=0.8487,\tbest estimator lgbm's best error=0.8487\n",
      "[flaml.automl.automl: 01-22 16:28:35] {3322} INFO - iteration 186, current learner lgbm\n",
      "[flaml.automl.automl: 01-22 16:28:35] {3507} INFO -  at 61.3s,\testimator lgbm's best error=0.8487,\tbest estimator lgbm's best error=0.8487\n",
      "[flaml.automl.automl: 01-22 16:28:35] {3322} INFO - iteration 187, current learner lgbm\n",
      "[flaml.automl.automl: 01-22 16:28:35] {3507} INFO -  at 61.6s,\testimator lgbm's best error=0.8487,\tbest estimator lgbm's best error=0.8487\n",
      "[flaml.automl.automl: 01-22 16:28:35] {3322} INFO - iteration 188, current learner lgbm\n",
      "[flaml.automl.automl: 01-22 16:28:36] {3507} INFO -  at 62.2s,\testimator lgbm's best error=0.8487,\tbest estimator lgbm's best error=0.8487\n",
      "[flaml.automl.automl: 01-22 16:28:36] {3322} INFO - iteration 189, current learner lgbm\n",
      "[flaml.automl.automl: 01-22 16:28:36] {3507} INFO -  at 62.4s,\testimator lgbm's best error=0.8487,\tbest estimator lgbm's best error=0.8487\n",
      "[flaml.automl.automl: 01-22 16:28:36] {3322} INFO - iteration 190, current learner lgbm\n",
      "[flaml.automl.automl: 01-22 16:28:36] {3507} INFO -  at 62.7s,\testimator lgbm's best error=0.8487,\tbest estimator lgbm's best error=0.8487\n",
      "[flaml.automl.automl: 01-22 16:28:36] {3322} INFO - iteration 191, current learner lgbm\n",
      "[flaml.automl.automl: 01-22 16:28:37] {3507} INFO -  at 63.1s,\testimator lgbm's best error=0.8487,\tbest estimator lgbm's best error=0.8487\n",
      "[flaml.automl.automl: 01-22 16:28:37] {3322} INFO - iteration 192, current learner lgbm\n",
      "[flaml.automl.automl: 01-22 16:28:37] {3507} INFO -  at 63.8s,\testimator lgbm's best error=0.8487,\tbest estimator lgbm's best error=0.8487\n",
      "[flaml.automl.automl: 01-22 16:28:37] {3322} INFO - iteration 193, current learner lgbm\n",
      "[flaml.automl.automl: 01-22 16:28:38] {3507} INFO -  at 64.0s,\testimator lgbm's best error=0.8487,\tbest estimator lgbm's best error=0.8487\n",
      "[flaml.automl.automl: 01-22 16:28:38] {3322} INFO - iteration 194, current learner lgbm\n",
      "[flaml.automl.automl: 01-22 16:28:38] {3507} INFO -  at 64.3s,\testimator lgbm's best error=0.8487,\tbest estimator lgbm's best error=0.8487\n",
      "[flaml.automl.automl: 01-22 16:28:38] {3322} INFO - iteration 195, current learner lgbm\n",
      "[flaml.automl.automl: 01-22 16:28:38] {3507} INFO -  at 64.6s,\testimator lgbm's best error=0.8487,\tbest estimator lgbm's best error=0.8487\n",
      "[flaml.automl.automl: 01-22 16:28:38] {3322} INFO - iteration 196, current learner lgbm\n",
      "[flaml.automl.automl: 01-22 16:28:38] {3507} INFO -  at 64.8s,\testimator lgbm's best error=0.8487,\tbest estimator lgbm's best error=0.8487\n",
      "[flaml.automl.automl: 01-22 16:28:38] {3322} INFO - iteration 197, current learner lgbm\n",
      "[flaml.automl.automl: 01-22 16:28:39] {3507} INFO -  at 65.2s,\testimator lgbm's best error=0.8487,\tbest estimator lgbm's best error=0.8487\n",
      "[flaml.automl.automl: 01-22 16:28:39] {3322} INFO - iteration 198, current learner lgbm\n",
      "[flaml.automl.automl: 01-22 16:28:39] {3507} INFO -  at 65.8s,\testimator lgbm's best error=0.8487,\tbest estimator lgbm's best error=0.8487\n",
      "[flaml.automl.automl: 01-22 16:28:39] {3322} INFO - iteration 199, current learner lgbm\n",
      "[flaml.automl.automl: 01-22 16:28:40] {3507} INFO -  at 66.0s,\testimator lgbm's best error=0.8487,\tbest estimator lgbm's best error=0.8487\n",
      "[flaml.automl.automl: 01-22 16:28:40] {3322} INFO - iteration 200, current learner lgbm\n",
      "[flaml.automl.automl: 01-22 16:28:40] {3507} INFO -  at 66.3s,\testimator lgbm's best error=0.8487,\tbest estimator lgbm's best error=0.8487\n",
      "[flaml.automl.automl: 01-22 16:28:40] {3322} INFO - iteration 201, current learner lgbm\n",
      "[flaml.automl.automl: 01-22 16:28:40] {3507} INFO -  at 66.6s,\testimator lgbm's best error=0.8487,\tbest estimator lgbm's best error=0.8487\n",
      "[flaml.automl.automl: 01-22 16:28:40] {3322} INFO - iteration 202, current learner lgbm\n",
      "[flaml.automl.automl: 01-22 16:28:41] {3507} INFO -  at 66.8s,\testimator lgbm's best error=0.8487,\tbest estimator lgbm's best error=0.8487\n",
      "[flaml.automl.automl: 01-22 16:28:41] {3322} INFO - iteration 203, current learner lgbm\n",
      "[flaml.automl.automl: 01-22 16:28:41] {3507} INFO -  at 67.2s,\testimator lgbm's best error=0.8487,\tbest estimator lgbm's best error=0.8487\n",
      "[flaml.automl.automl: 01-22 16:28:41] {3322} INFO - iteration 204, current learner lgbm\n",
      "[flaml.automl.automl: 01-22 16:28:41] {3507} INFO -  at 67.5s,\testimator lgbm's best error=0.8487,\tbest estimator lgbm's best error=0.8487\n",
      "[flaml.automl.automl: 01-22 16:28:41] {3322} INFO - iteration 205, current learner lgbm\n",
      "[flaml.automl.automl: 01-22 16:28:41] {3507} INFO -  at 67.8s,\testimator lgbm's best error=0.8487,\tbest estimator lgbm's best error=0.8487\n",
      "[flaml.automl.automl: 01-22 16:28:41] {3322} INFO - iteration 206, current learner lgbm\n",
      "[flaml.automl.automl: 01-22 16:28:42] {3507} INFO -  at 68.1s,\testimator lgbm's best error=0.8487,\tbest estimator lgbm's best error=0.8487\n",
      "[flaml.automl.automl: 01-22 16:28:42] {3322} INFO - iteration 207, current learner lgbm\n",
      "[flaml.automl.automl: 01-22 16:28:42] {3507} INFO -  at 68.4s,\testimator lgbm's best error=0.8487,\tbest estimator lgbm's best error=0.8487\n",
      "[flaml.automl.automl: 01-22 16:28:42] {3322} INFO - iteration 208, current learner lgbm\n",
      "[flaml.automl.automl: 01-22 16:28:42] {3507} INFO -  at 68.7s,\testimator lgbm's best error=0.8487,\tbest estimator lgbm's best error=0.8487\n",
      "[flaml.automl.automl: 01-22 16:28:42] {3322} INFO - iteration 209, current learner lgbm\n",
      "[flaml.automl.automl: 01-22 16:28:43] {3507} INFO -  at 69.1s,\testimator lgbm's best error=0.8487,\tbest estimator lgbm's best error=0.8487\n",
      "[flaml.automl.automl: 01-22 16:28:43] {3322} INFO - iteration 210, current learner lgbm\n",
      "[flaml.automl.automl: 01-22 16:28:43] {3507} INFO -  at 69.4s,\testimator lgbm's best error=0.8487,\tbest estimator lgbm's best error=0.8487\n",
      "[flaml.automl.automl: 01-22 16:28:43] {3322} INFO - iteration 211, current learner lgbm\n",
      "[flaml.automl.automl: 01-22 16:28:43] {3507} INFO -  at 69.6s,\testimator lgbm's best error=0.8487,\tbest estimator lgbm's best error=0.8487\n",
      "[flaml.automl.automl: 01-22 16:28:43] {3322} INFO - iteration 212, current learner lgbm\n",
      "[flaml.automl.automl: 01-22 16:28:44] {3507} INFO -  at 70.2s,\testimator lgbm's best error=0.8487,\tbest estimator lgbm's best error=0.8487\n",
      "[flaml.automl.automl: 01-22 16:28:44] {3322} INFO - iteration 213, current learner lgbm\n",
      "[flaml.automl.automl: 01-22 16:28:44] {3507} INFO -  at 70.4s,\testimator lgbm's best error=0.8487,\tbest estimator lgbm's best error=0.8487\n",
      "[flaml.automl.automl: 01-22 16:28:44] {3322} INFO - iteration 214, current learner lgbm\n",
      "[flaml.automl.automl: 01-22 16:28:44] {3507} INFO -  at 70.6s,\testimator lgbm's best error=0.8487,\tbest estimator lgbm's best error=0.8487\n",
      "[flaml.automl.automl: 01-22 16:28:44] {3322} INFO - iteration 215, current learner lgbm\n",
      "[flaml.automl.automl: 01-22 16:28:45] {3507} INFO -  at 71.3s,\testimator lgbm's best error=0.8487,\tbest estimator lgbm's best error=0.8487\n",
      "[flaml.automl.automl: 01-22 16:28:45] {3322} INFO - iteration 216, current learner lgbm\n",
      "[flaml.automl.automl: 01-22 16:28:46] {3507} INFO -  at 72.0s,\testimator lgbm's best error=0.8487,\tbest estimator lgbm's best error=0.8487\n"
     ]
    },
    {
     "name": "stdout",
     "output_type": "stream",
     "text": [
      "[flaml.automl.automl: 01-22 16:28:46] {3322} INFO - iteration 217, current learner lgbm\n",
      "[flaml.automl.automl: 01-22 16:28:46] {3507} INFO -  at 72.2s,\testimator lgbm's best error=0.8487,\tbest estimator lgbm's best error=0.8487\n",
      "[flaml.automl.automl: 01-22 16:28:46] {3322} INFO - iteration 218, current learner lgbm\n",
      "[flaml.automl.automl: 01-22 16:28:46] {3507} INFO -  at 72.4s,\testimator lgbm's best error=0.8487,\tbest estimator lgbm's best error=0.8487\n",
      "[flaml.automl.automl: 01-22 16:28:46] {3322} INFO - iteration 219, current learner lgbm\n",
      "[flaml.automl.automl: 01-22 16:28:47] {3507} INFO -  at 72.9s,\testimator lgbm's best error=0.8487,\tbest estimator lgbm's best error=0.8487\n",
      "[flaml.automl.automl: 01-22 16:28:47] {3322} INFO - iteration 220, current learner lgbm\n",
      "[flaml.automl.automl: 01-22 16:28:47] {3507} INFO -  at 73.1s,\testimator lgbm's best error=0.8487,\tbest estimator lgbm's best error=0.8487\n",
      "[flaml.automl.automl: 01-22 16:28:47] {3322} INFO - iteration 221, current learner lgbm\n",
      "[flaml.automl.automl: 01-22 16:28:47] {3507} INFO -  at 73.4s,\testimator lgbm's best error=0.8487,\tbest estimator lgbm's best error=0.8487\n",
      "[flaml.automl.automl: 01-22 16:28:47] {3322} INFO - iteration 222, current learner lgbm\n",
      "[flaml.automl.automl: 01-22 16:28:47] {3507} INFO -  at 73.6s,\testimator lgbm's best error=0.8487,\tbest estimator lgbm's best error=0.8487\n",
      "[flaml.automl.automl: 01-22 16:28:47] {3322} INFO - iteration 223, current learner lgbm\n",
      "[flaml.automl.automl: 01-22 16:28:48] {3507} INFO -  at 74.2s,\testimator lgbm's best error=0.8487,\tbest estimator lgbm's best error=0.8487\n",
      "[flaml.automl.automl: 01-22 16:28:48] {3322} INFO - iteration 224, current learner lgbm\n",
      "[flaml.automl.automl: 01-22 16:28:48] {3507} INFO -  at 74.6s,\testimator lgbm's best error=0.8487,\tbest estimator lgbm's best error=0.8487\n",
      "[flaml.automl.automl: 01-22 16:28:48] {3322} INFO - iteration 225, current learner lgbm\n",
      "[flaml.automl.automl: 01-22 16:28:49] {3507} INFO -  at 74.9s,\testimator lgbm's best error=0.8487,\tbest estimator lgbm's best error=0.8487\n",
      "[flaml.automl.automl: 01-22 16:28:49] {3322} INFO - iteration 226, current learner lgbm\n",
      "[flaml.automl.automl: 01-22 16:28:49] {3507} INFO -  at 75.4s,\testimator lgbm's best error=0.8487,\tbest estimator lgbm's best error=0.8487\n",
      "[flaml.automl.automl: 01-22 16:28:49] {3322} INFO - iteration 227, current learner lgbm\n",
      "[flaml.automl.automl: 01-22 16:28:49] {3507} INFO -  at 75.6s,\testimator lgbm's best error=0.8487,\tbest estimator lgbm's best error=0.8487\n",
      "[flaml.automl.automl: 01-22 16:28:49] {3322} INFO - iteration 228, current learner lgbm\n",
      "[flaml.automl.automl: 01-22 16:28:50] {3507} INFO -  at 76.3s,\testimator lgbm's best error=0.8487,\tbest estimator lgbm's best error=0.8487\n",
      "[flaml.automl.automl: 01-22 16:28:50] {3322} INFO - iteration 229, current learner lgbm\n",
      "[flaml.automl.automl: 01-22 16:28:50] {3507} INFO -  at 76.5s,\testimator lgbm's best error=0.8487,\tbest estimator lgbm's best error=0.8487\n",
      "[flaml.automl.automl: 01-22 16:28:50] {3322} INFO - iteration 230, current learner lgbm\n",
      "[flaml.automl.automl: 01-22 16:28:51] {3507} INFO -  at 77.1s,\testimator lgbm's best error=0.8487,\tbest estimator lgbm's best error=0.8487\n",
      "[flaml.automl.automl: 01-22 16:28:51] {3322} INFO - iteration 231, current learner lgbm\n",
      "[flaml.automl.automl: 01-22 16:28:51] {3507} INFO -  at 77.3s,\testimator lgbm's best error=0.8487,\tbest estimator lgbm's best error=0.8487\n",
      "[flaml.automl.automl: 01-22 16:28:51] {3322} INFO - iteration 232, current learner lgbm\n",
      "[flaml.automl.automl: 01-22 16:28:51] {3507} INFO -  at 77.5s,\testimator lgbm's best error=0.8487,\tbest estimator lgbm's best error=0.8487\n",
      "[flaml.automl.automl: 01-22 16:28:51] {3322} INFO - iteration 233, current learner lgbm\n",
      "[flaml.automl.automl: 01-22 16:28:52] {3507} INFO -  at 77.9s,\testimator lgbm's best error=0.8487,\tbest estimator lgbm's best error=0.8487\n",
      "[flaml.automl.automl: 01-22 16:28:52] {3322} INFO - iteration 234, current learner lgbm\n",
      "[flaml.automl.automl: 01-22 16:28:52] {3507} INFO -  at 78.2s,\testimator lgbm's best error=0.8487,\tbest estimator lgbm's best error=0.8487\n",
      "[flaml.automl.automl: 01-22 16:28:52] {3322} INFO - iteration 235, current learner lgbm\n",
      "[flaml.automl.automl: 01-22 16:28:52] {3507} INFO -  at 78.5s,\testimator lgbm's best error=0.8487,\tbest estimator lgbm's best error=0.8487\n",
      "[flaml.automl.automl: 01-22 16:28:52] {3322} INFO - iteration 236, current learner lgbm\n",
      "[flaml.automl.automl: 01-22 16:28:53] {3507} INFO -  at 78.9s,\testimator lgbm's best error=0.8487,\tbest estimator lgbm's best error=0.8487\n",
      "[flaml.automl.automl: 01-22 16:28:53] {3322} INFO - iteration 237, current learner lgbm\n",
      "[flaml.automl.automl: 01-22 16:28:53] {3507} INFO -  at 79.2s,\testimator lgbm's best error=0.8487,\tbest estimator lgbm's best error=0.8487\n",
      "[flaml.automl.automl: 01-22 16:28:53] {3322} INFO - iteration 238, current learner lgbm\n",
      "[flaml.automl.automl: 01-22 16:28:53] {3507} INFO -  at 79.4s,\testimator lgbm's best error=0.8487,\tbest estimator lgbm's best error=0.8487\n",
      "[flaml.automl.automl: 01-22 16:28:53] {3322} INFO - iteration 239, current learner lgbm\n",
      "[flaml.automl.automl: 01-22 16:28:54] {3507} INFO -  at 79.9s,\testimator lgbm's best error=0.8487,\tbest estimator lgbm's best error=0.8487\n",
      "[flaml.automl.automl: 01-22 16:28:54] {3322} INFO - iteration 240, current learner lgbm\n",
      "[flaml.automl.automl: 01-22 16:28:54] {3507} INFO -  at 80.2s,\testimator lgbm's best error=0.8487,\tbest estimator lgbm's best error=0.8487\n",
      "[flaml.automl.automl: 01-22 16:28:54] {3322} INFO - iteration 241, current learner lgbm\n",
      "[flaml.automl.automl: 01-22 16:28:54] {3507} INFO -  at 80.6s,\testimator lgbm's best error=0.8487,\tbest estimator lgbm's best error=0.8487\n",
      "[flaml.automl.automl: 01-22 16:28:54] {3322} INFO - iteration 242, current learner lgbm\n",
      "[flaml.automl.automl: 01-22 16:28:54] {3507} INFO -  at 80.8s,\testimator lgbm's best error=0.8487,\tbest estimator lgbm's best error=0.8487\n",
      "[flaml.automl.automl: 01-22 16:28:54] {3322} INFO - iteration 243, current learner lgbm\n",
      "[flaml.automl.automl: 01-22 16:28:56] {3507} INFO -  at 82.0s,\testimator lgbm's best error=0.8487,\tbest estimator lgbm's best error=0.8487\n",
      "[flaml.automl.automl: 01-22 16:28:56] {3322} INFO - iteration 244, current learner lgbm\n",
      "[flaml.automl.automl: 01-22 16:28:56] {3507} INFO -  at 82.4s,\testimator lgbm's best error=0.8487,\tbest estimator lgbm's best error=0.8487\n",
      "[flaml.automl.automl: 01-22 16:28:56] {3322} INFO - iteration 245, current learner lgbm\n",
      "[flaml.automl.automl: 01-22 16:28:57] {3507} INFO -  at 82.9s,\testimator lgbm's best error=0.8487,\tbest estimator lgbm's best error=0.8487\n",
      "[flaml.automl.automl: 01-22 16:28:57] {3322} INFO - iteration 246, current learner lgbm\n",
      "[flaml.automl.automl: 01-22 16:28:57] {3507} INFO -  at 83.3s,\testimator lgbm's best error=0.8487,\tbest estimator lgbm's best error=0.8487\n",
      "[flaml.automl.automl: 01-22 16:28:57] {3322} INFO - iteration 247, current learner lgbm\n",
      "[flaml.automl.automl: 01-22 16:28:57] {3507} INFO -  at 83.5s,\testimator lgbm's best error=0.8487,\tbest estimator lgbm's best error=0.8487\n",
      "[flaml.automl.automl: 01-22 16:28:57] {3322} INFO - iteration 248, current learner lgbm\n",
      "[flaml.automl.automl: 01-22 16:28:57] {3507} INFO -  at 83.8s,\testimator lgbm's best error=0.8487,\tbest estimator lgbm's best error=0.8487\n",
      "[flaml.automl.automl: 01-22 16:28:57] {3322} INFO - iteration 249, current learner lgbm\n",
      "[flaml.automl.automl: 01-22 16:28:58] {3507} INFO -  at 84.2s,\testimator lgbm's best error=0.8487,\tbest estimator lgbm's best error=0.8487\n",
      "[flaml.automl.automl: 01-22 16:28:58] {3322} INFO - iteration 250, current learner lgbm\n",
      "[flaml.automl.automl: 01-22 16:28:58] {3507} INFO -  at 84.6s,\testimator lgbm's best error=0.8487,\tbest estimator lgbm's best error=0.8487\n",
      "[flaml.automl.automl: 01-22 16:28:58] {3322} INFO - iteration 251, current learner lgbm\n",
      "[flaml.automl.automl: 01-22 16:28:58] {3507} INFO -  at 84.8s,\testimator lgbm's best error=0.8487,\tbest estimator lgbm's best error=0.8487\n",
      "[flaml.automl.automl: 01-22 16:28:58] {3322} INFO - iteration 252, current learner lgbm\n",
      "[flaml.automl.automl: 01-22 16:28:59] {3507} INFO -  at 85.5s,\testimator lgbm's best error=0.8487,\tbest estimator lgbm's best error=0.8487\n",
      "[flaml.automl.automl: 01-22 16:28:59] {3322} INFO - iteration 253, current learner lgbm\n"
     ]
    },
    {
     "name": "stdout",
     "output_type": "stream",
     "text": [
      "[flaml.automl.automl: 01-22 16:28:59] {3507} INFO -  at 85.7s,\testimator lgbm's best error=0.8487,\tbest estimator lgbm's best error=0.8487\n",
      "[flaml.automl.automl: 01-22 16:28:59] {3322} INFO - iteration 254, current learner lgbm\n",
      "[flaml.automl.automl: 01-22 16:29:00] {3507} INFO -  at 86.7s,\testimator lgbm's best error=0.8487,\tbest estimator lgbm's best error=0.8487\n",
      "[flaml.automl.automl: 01-22 16:29:00] {3322} INFO - iteration 255, current learner lgbm\n",
      "[flaml.automl.automl: 01-22 16:29:01] {3507} INFO -  at 86.9s,\testimator lgbm's best error=0.8487,\tbest estimator lgbm's best error=0.8487\n",
      "[flaml.automl.automl: 01-22 16:29:01] {3322} INFO - iteration 256, current learner lgbm\n",
      "[flaml.automl.automl: 01-22 16:29:01] {3507} INFO -  at 87.3s,\testimator lgbm's best error=0.8487,\tbest estimator lgbm's best error=0.8487\n",
      "[flaml.automl.automl: 01-22 16:29:01] {3322} INFO - iteration 257, current learner lgbm\n",
      "[flaml.automl.automl: 01-22 16:29:01] {3507} INFO -  at 87.6s,\testimator lgbm's best error=0.8487,\tbest estimator lgbm's best error=0.8487\n",
      "[flaml.automl.automl: 01-22 16:29:01] {3322} INFO - iteration 258, current learner lgbm\n",
      "[flaml.automl.automl: 01-22 16:29:01] {3507} INFO -  at 87.7s,\testimator lgbm's best error=0.8487,\tbest estimator lgbm's best error=0.8487\n",
      "[flaml.automl.automl: 01-22 16:29:01] {3322} INFO - iteration 259, current learner lgbm\n",
      "[flaml.automl.automl: 01-22 16:29:02] {3507} INFO -  at 88.6s,\testimator lgbm's best error=0.8487,\tbest estimator lgbm's best error=0.8487\n",
      "[flaml.automl.automl: 01-22 16:29:02] {3322} INFO - iteration 260, current learner lgbm\n",
      "[flaml.automl.automl: 01-22 16:29:03] {3507} INFO -  at 89.3s,\testimator lgbm's best error=0.8487,\tbest estimator lgbm's best error=0.8487\n",
      "[flaml.automl.automl: 01-22 16:29:03] {3322} INFO - iteration 261, current learner lgbm\n",
      "[flaml.automl.automl: 01-22 16:29:03] {3507} INFO -  at 89.5s,\testimator lgbm's best error=0.8487,\tbest estimator lgbm's best error=0.8487\n",
      "[flaml.automl.automl: 01-22 16:29:03] {3322} INFO - iteration 262, current learner lgbm\n",
      "[flaml.automl.automl: 01-22 16:29:04] {3507} INFO -  at 90.3s,\testimator lgbm's best error=0.8487,\tbest estimator lgbm's best error=0.8487\n",
      "[flaml.automl.automl: 01-22 16:29:04] {3322} INFO - iteration 263, current learner lgbm\n",
      "[flaml.automl.automl: 01-22 16:29:04] {3507} INFO -  at 90.5s,\testimator lgbm's best error=0.8487,\tbest estimator lgbm's best error=0.8487\n",
      "[flaml.automl.automl: 01-22 16:29:04] {3322} INFO - iteration 264, current learner lgbm\n",
      "[flaml.automl.automl: 01-22 16:29:05] {3507} INFO -  at 91.1s,\testimator lgbm's best error=0.8487,\tbest estimator lgbm's best error=0.8487\n",
      "[flaml.automl.automl: 01-22 16:29:05] {3322} INFO - iteration 265, current learner lgbm\n",
      "[flaml.automl.automl: 01-22 16:29:05] {3507} INFO -  at 91.3s,\testimator lgbm's best error=0.8487,\tbest estimator lgbm's best error=0.8487\n",
      "[flaml.automl.automl: 01-22 16:29:05] {3322} INFO - iteration 266, current learner lgbm\n"
     ]
    }
   ],
   "source": [
    "from flaml import AutoML\n",
    "automl_log = AutoML()\n",
    "automl_log.fit(data.drop(['id','cltv'],axis=1), data['cltv'], task=\"regression\",metric='r2',time_budget=120,estimator_list = ['lgbm'],n_splits=5)\n",
    "print('Best r2 on validation data: {0:.4g}'.format(1-automl_log.best_loss))"
   ]
  },
  {
   "cell_type": "code",
   "execution_count": null,
   "id": "4975a06c",
   "metadata": {},
   "outputs": [],
   "source": [
    "feature_importance = automl_log.feature_importances_\n",
    "sorted_idx = np.argsort(feature_importance)[-25:]\n",
    "\n",
    "fig = plt.figure(figsize=(12, 6))\n",
    "plt.barh(range(len(sorted_idx)), feature_importance[sorted_idx], align='center')\n",
    "plt.yticks(range(len(sorted_idx)), np.array(data.drop(['id','cltv'],axis=1).columns)[sorted_idx])\n",
    "plt.title('Feature Importance')"
   ]
  },
  {
   "cell_type": "markdown",
   "id": "e3ce6214",
   "metadata": {},
   "source": [
    "### Test Data"
   ]
  },
  {
   "cell_type": "code",
   "execution_count": null,
   "id": "c271f817",
   "metadata": {},
   "outputs": [],
   "source": [
    "### Predicting on test dataset\n",
    "test=pd.read_csv('test.csv')\n",
    "test_data=data_transform(data=test)\n",
    "test_data.head()"
   ]
  },
  {
   "cell_type": "code",
   "execution_count": null,
   "id": "c04d1fb8",
   "metadata": {},
   "outputs": [],
   "source": [
    "test['cltv']=automl_log.predict(test_data.drop(['id'],axis=1))\n",
    "test[['id','cltv']].to_csv('LightGBM_No_Transform_Outlier_Treat.csv',index=False)"
   ]
  },
  {
   "cell_type": "code",
   "execution_count": null,
   "id": "d281b226",
   "metadata": {},
   "outputs": [],
   "source": [
    "test.head()"
   ]
  },
  {
   "cell_type": "markdown",
   "id": "763085dd",
   "metadata": {},
   "source": [
    "### Ensemble Approach"
   ]
  },
  {
   "cell_type": "code",
   "execution_count": 17,
   "id": "7910953a",
   "metadata": {},
   "outputs": [
    {
     "name": "stdout",
     "output_type": "stream",
     "text": [
      "[LightGBM] [Warning] Unknown parameter: log_max_bin\n"
     ]
    }
   ],
   "source": [
    "from xgboost import XGBRegressor\n",
    "from lightgbm import LGBMRegressor\n",
    "reg_xgb=XGBRegressor(random_state=123,n_estimators= 14, max_leaves= 5, min_child_weight= 23.304007391002425, learning_rate= 0.3520489575856527, subsample= 0.9293046029829143, colsample_bylevel= 1.0, colsample_bytree= 0.6066646061109678, reg_alpha= 0.006215944959600305, reg_lambda= 3.7241744662794094)\n",
    "reg_lighgbm=LGBMRegressor(random_state=123,n_estimators=43, num_leaves=8, min_child_samples=16, learning_rate=0.17113311858654137, log_max_bin=7, colsample_bytree=0.5994753538683965,reg_alpha=0.0033143387672991734, reg_lambda=281.829238191958)          \n",
    "test['cltv']=0.5*reg_xgb.fit(data.drop(['id','cltv'],axis=1), data['cltv']).predict(test_data.drop(['id'],axis=1))+0.5*reg_lighgbm.fit(data.drop(['id','cltv'],axis=1), data['cltv']).predict(test_data.drop(['id'],axis=1))\n",
    "test[['id','cltv']].to_csv('Ensemble_No_Transform_Outlier_Treat.csv',index=False)"
   ]
  },
  {
   "cell_type": "markdown",
   "id": "e9817160",
   "metadata": {},
   "source": [
    "### PyCaret Approach"
   ]
  },
  {
   "cell_type": "raw",
   "id": "72e9cb47",
   "metadata": {},
   "source": [
    "from pycaret.regression import *\n",
    "exp_reg102 = setup(data, target = 'cltv', session_id=123,train_size= 0.9,\n",
    "    ordinal_features= {'area' : [1,2],'income':[1,2,3,4], 'num_policies':[1,2]},\n",
    "    numeric_features= ['claim_amount'],\n",
    "    ignore_features=['id'],\n",
    "    preprocess=  True,\n",
    "    low_variance_threshold= 0.01,\n",
    "    remove_multicollinearity= True,\n",
    "    multicollinearity_threshold= 0.9,\n",
    "    bin_numeric_features=['claim_amount'],\n",
    "    remove_outliers= False,\n",
    "    outliers_method = 'iforest',\n",
    "    outliers_threshold= 0.05,\n",
    "    transformation= False,\n",
    "    transformation_method= 'yeo-johnson',\n",
    "    normalize= True,\n",
    "    normalize_method= 'zscore',\n",
    "    transform_target= True,\n",
    "    transform_target_method= 'yeo-johnson',\n",
    "    data_split_shuffle= True,\n",
    "    fold_strategy= 'kfold',\n",
    "    fold= 5,\n",
    "    n_jobs= -1,\n",
    "    log_experiment = True, \n",
    "    experiment_name = 'Trial_v1')\n",
    "top3 = compare_models(exclude = ['ransac'], n_select = 3)\n",
    "top3"
   ]
  }
 ],
 "metadata": {
  "kernelspec": {
   "display_name": "Python 3 (ipykernel)",
   "language": "python",
   "name": "python3"
  },
  "language_info": {
   "codemirror_mode": {
    "name": "ipython",
    "version": 3
   },
   "file_extension": ".py",
   "mimetype": "text/x-python",
   "name": "python",
   "nbconvert_exporter": "python",
   "pygments_lexer": "ipython3",
   "version": "3.9.12"
  }
 },
 "nbformat": 4,
 "nbformat_minor": 5
}
